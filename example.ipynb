{
 "cells": [
  {
   "cell_type": "code",
   "execution_count": 83,
   "metadata": {},
   "outputs": [],
   "source": [
    "#Make sure to run this cell as the start\n",
    "from quantum import *"
   ]
  },
  {
   "cell_type": "code",
   "execution_count": 84,
   "metadata": {},
   "outputs": [
    {
     "name": "stdout",
     "output_type": "stream",
     "text": [
      "q0: [0, 1] , q1: [1, 0]\n"
     ]
    }
   ],
   "source": [
    "# create a qubit using the qbit(x) function, where x is the default value of the bit:\n",
    "q0 = qbit(1)\n",
    "q1 = qbit(0)\n",
    "#qubit 1 is represented by [0 1] while qubit 0 is [1 0]\n",
    "\n",
    "\n",
    "#all qbits are just a list of 2 elements, elements being either real or complex\n",
    "#complex numbers in this library are handled with `comp` class, and Matrices with `Matrix` class\n",
    "print(\"q0:\", q0, \", q1:\", q1)"
   ]
  },
  {
   "cell_type": "code",
   "execution_count": 85,
   "metadata": {},
   "outputs": [],
   "source": [
    "#gates are applied on qubits using the corresponding gate funtions.\n",
    "#as of now, IDEN (identity), NOT (not), HAD (hadamard), CNOT (controlled not) gates have been implemented. \n",
    "#however, after application of CNOT gate I still haven't figured out how to use other gates\n",
    "\n",
    "#to see the outcome of a computation, use the MEASURE function\n",
    "#Measurement can be done on a single qubit or a set of qubits. If multiple qubits are to be measured,\n",
    "#then we must pass the inner tensor product of these qubits to MEASURE. tensor product can be \n",
    "#calculated using the tensor function."
   ]
  },
  {
   "cell_type": "code",
   "execution_count": 86,
   "metadata": {},
   "outputs": [
    {
     "name": "stdout",
     "output_type": "stream",
     "text": [
      "[0, 1]\n",
      "[0, 0, 1, 0]\n"
     ]
    }
   ],
   "source": [
    "#example: measures a single qubit (here the qubit is 1, so measurement is always 1, try running this line a few times)\n",
    "print(MEASURE(q0))\n",
    "# print(MEASURE(q1))\n",
    "\n",
    "#example: measuring a set of qubits:\n",
    "q0andq1 = tensor(q0, q1)\n",
    "print(MEASURE(q0andq1))"
   ]
  },
  {
   "cell_type": "code",
   "execution_count": 87,
   "metadata": {},
   "outputs": [
    {
     "name": "stdout",
     "output_type": "stream",
     "text": [
      "q0m:  [0, 1] , q1m:  [1, 0]\n"
     ]
    }
   ],
   "source": [
    "#example: displaying measurements in a readable way\n",
    "#use the extract function to get the value of a single qubit from a measurement of set of qubits\n",
    "measurement = MEASURE(q0andq1)\n",
    "q0m = extract(measurement, 0) #here 0 is the qbitindex as it is the 0th element in the tensor product\n",
    "q1m = extract(measurement, 1)\n",
    "print(\"q0m: \", q0m, \", q1m: \", q1m)"
   ]
  },
  {
   "cell_type": "code",
   "execution_count": 88,
   "metadata": {},
   "outputs": [],
   "source": [
    "#so far nothing of note, we created qubits 0 and 1, and measured them together and individually, and found\n",
    "#the same qubits.\n",
    "\n",
    "#this is where things get interesting"
   ]
  },
  {
   "cell_type": "code",
   "execution_count": 89,
   "metadata": {},
   "outputs": [
    {
     "name": "stdout",
     "output_type": "stream",
     "text": [
      "[0.71 + i0.00, -0.71 + i0.00]\n"
     ]
    }
   ],
   "source": [
    "#list of gates so far:\n",
    "#IDEN -> identity, return the same exact value with no change\n",
    "#NOT -> returns the logical not value of the input value\n",
    "#HAD -> Hadamard gate, can put a qubit into superposition of take a qubit already in superposition to normalcy\n",
    "#CNOT -> takes 2 qubits as input; one qubit is designated control, the other target.\n",
    "#        if the control qubit is 0, nothing is done. if the control qubit is 1, the target qubit gets the\n",
    "#        NOT gate applied on it.\n",
    "\n",
    "#example: hadamard gate in action\n",
    "print(HAD(q0))"
   ]
  },
  {
   "cell_type": "code",
   "execution_count": 90,
   "metadata": {},
   "outputs": [
    {
     "name": "stdout",
     "output_type": "stream",
     "text": [
      "q0 value:  [0, 1] , q1 value:  [0, 1]\n"
     ]
    }
   ],
   "source": [
    "#example: measuring 2 qubits in independent superpositions:\n",
    "q0s = HAD(q0)\n",
    "q1s = HAD(q1)\n",
    "\n",
    "measurement = MEASURE(tensor(q0s, q1s))\n",
    "\n",
    "q0m = extract(measurement, 0)\n",
    "q1m = extract(measurement, 1)\n",
    "\n",
    "print(\"q0 value: \", q0m, \", q1 value: \", q1m)\n",
    "#try running this cell a few times to see the various outcomes"
   ]
  },
  {
   "cell_type": "code",
   "execution_count": 91,
   "metadata": {},
   "outputs": [
    {
     "name": "stdout",
     "output_type": "stream",
     "text": [
      "|Ψ00> : 25.143749999999997%, |Ψ01> : 24.94375%, |Ψ10> : 25.23125%, |Ψ11> : 24.68125%\n"
     ]
    }
   ],
   "source": [
    "# in the previous example, the qubits were put in superposittion, meaning each had a 50-50 chance of being\n",
    "# either 0 or 1. since both the bits were in superposition, the chance of seeing 00, 01, 10, 11 is \n",
    "# equally likely, even though we started with qubits that were only 0 or 1\n",
    "\n",
    "#to automate the process we did in previous example, the run function can be used.\n",
    "\n",
    "#example: running a measurement multiple times and viewing the outcome:\n",
    "run(shots = 16000, state = tensor(q0s, q1s))\n",
    "\n",
    "#try running the experiment a few times to see the outcomes.\n",
    "#each of the possible states, represented by |Ψ  > is a possible state of the set of qubits.\n",
    "# the percentages show what percent of the total number of measurements made (here 1600) were that particular state\n",
    "#so in this case, where both the bits are euqally likely to be 0 or 1, 00, 01, 10, 11 are all equally likely\n",
    "#hence, each has a 25% share of the total measurements"
   ]
  },
  {
   "cell_type": "code",
   "execution_count": 102,
   "metadata": {},
   "outputs": [
    {
     "name": "stdout",
     "output_type": "stream",
     "text": [
      "|Ψ000> : 12.375%, |Ψ001> : 13.9375%, |Ψ010> : 12.0%, |Ψ011> : 11.25%, |Ψ100> : 12.5%, |Ψ101> : 12.1875%, |Ψ110> : 12.75%, |Ψ111> : 13.0%\n"
     ]
    }
   ],
   "source": [
    "#example: multiple superposition (no limit to how many can be in superpostion):\n",
    "state = tensor(HAD(qbit(0)), tensor(HAD(qbit(0)), HAD(qbit(0))))\n",
    "run(1600, state)"
   ]
  },
  {
   "cell_type": "code",
   "execution_count": 93,
   "metadata": {},
   "outputs": [
    {
     "name": "stdout",
     "output_type": "stream",
     "text": [
      "q0 value:  [0, 1] , q1 value:  [0, 1]\n"
     ]
    }
   ],
   "source": [
    "#example: using CNOT:\n",
    "measurement = MEASURE(CNOT(q0, q1))\n",
    "\n",
    "q0m = extract(measurement, 0)\n",
    "q1m = extract(measurement, 1)\n",
    "\n",
    "print(\"q0 value: \", q0m, \", q1 value: \", q1m)\n",
    "\n",
    "#the result is as expected (note, we are using the normal versions of the qubits in this example)"
   ]
  },
  {
   "cell_type": "code",
   "execution_count": 94,
   "metadata": {},
   "outputs": [
    {
     "name": "stdout",
     "output_type": "stream",
     "text": [
      "|Ψ00> : 49.3125%, |Ψ01> : 0.0%, |Ψ10> : 0.0%, |Ψ11> : 50.6875%\n"
     ]
    }
   ],
   "source": [
    "#example: quantum entanglement:\n",
    "\n",
    "q0h = HAD(q0) #one of the bits is in superposition\n",
    "\n",
    "#the bits are now put into entanglement:\n",
    "state = CNOT(q0h, q1)\n",
    "\n",
    "\n",
    "run(1600, state)\n",
    "#both the bits are always the same value, that is knowing the value of one tells you the other's"
   ]
  },
  {
   "cell_type": "code",
   "execution_count": 95,
   "metadata": {},
   "outputs": [
    {
     "name": "stdout",
     "output_type": "stream",
     "text": [
      "|Ψ00> : 0.0%, |Ψ01> : 49.6875%, |Ψ10> : 50.31250000000001%, |Ψ11> : 0.0%\n"
     ]
    }
   ],
   "source": [
    "#example: quantum entanglement 2:\n",
    "\n",
    "q0h = HAD(q0) #one of the bits is in superposition\n",
    "\n",
    "#the bits are now put into entanglement:\n",
    "state = CNOT(q0h, qbit(1))\n",
    "\n",
    "\n",
    "run(1600, state)\n",
    "#both the bits are always the oppposite value, that is knowing the value of one tells you the other's"
   ]
  }
 ],
 "metadata": {
  "interpreter": {
   "hash": "916dbcbb3f70747c44a77c7bcd40155683ae19c65e1c03b4aa3499c5328201f1"
  },
  "kernelspec": {
   "display_name": "Python 3.8.10 64-bit",
   "language": "python",
   "name": "python3"
  },
  "language_info": {
   "codemirror_mode": {
    "name": "ipython",
    "version": 3
   },
   "file_extension": ".py",
   "mimetype": "text/x-python",
   "name": "python",
   "nbconvert_exporter": "python",
   "pygments_lexer": "ipython3",
   "version": "3.8.10"
  },
  "orig_nbformat": 4
 },
 "nbformat": 4,
 "nbformat_minor": 2
}
