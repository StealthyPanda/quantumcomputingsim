{
 "cells": [
  {
   "cell_type": "code",
   "execution_count": 2,
   "metadata": {},
   "outputs": [],
   "source": [
    "#Make sure to run this cell as the start\n",
    "from quantum import *\n",
    "#quantum.py is completely self contained; optionally, if matplotlib is installed then that is used for rendering graphs\n",
    "#else, everything is rendered in terminal"
   ]
  },
  {
   "cell_type": "code",
   "execution_count": 3,
   "metadata": {},
   "outputs": [
    {
     "name": "stdout",
     "output_type": "stream",
     "text": [
      "q0: [0, 1] , q1: [1, 0]\n"
     ]
    }
   ],
   "source": [
    "# create a qubit using the qbit(x) function, where x is the default value of the bit:\n",
    "q0 = qbit(1)\n",
    "q1 = qbit(0)\n",
    "#qubit 1 is represented by [0 1] while qubit 0 is [1 0]\n",
    "\n",
    "\n",
    "#all qbits are just a list of 2 elements, elements being either real or complex\n",
    "#complex numbers in this library are handled with `comp` class, and Matrices with `Matrix` class\n",
    "print(\"q0:\", q0, \", q1:\", q1)"
   ]
  },
  {
   "cell_type": "code",
   "execution_count": 4,
   "metadata": {},
   "outputs": [],
   "source": [
    "#gates are applied on qubits using the corresponding gate funtions.\n",
    "#as of now, IDEN (identity), NOT (not), HAD (hadamard), CNOT (controlled not) gates have been implemented. \n",
    "#however, after application of CNOT gate I still haven't figured out how to use other gates\n",
    "\n",
    "#to see the outcome of a computation, use the MEASURE function\n",
    "#Measurement can be done on a single qubit or a set of qubits. If multiple qubits are to be measured,\n",
    "#then we must pass the inner tensor product of these qubits to MEASURE. tensor product can be \n",
    "#calculated using the tensor function."
   ]
  },
  {
   "cell_type": "code",
   "execution_count": 5,
   "metadata": {},
   "outputs": [
    {
     "name": "stdout",
     "output_type": "stream",
     "text": [
      "[0, 1]\n",
      "[0, 0, 1, 0]\n"
     ]
    }
   ],
   "source": [
    "#example: measures a single qubit (here the qubit is 1, so measurement is always 1, try running this line a few times)\n",
    "print(MEASURE(q0))\n",
    "# print(MEASURE(q1))\n",
    "\n",
    "#example: measuring a set of qubits:\n",
    "q0andq1 = tensor(q0, q1)\n",
    "print(MEASURE(q0andq1))"
   ]
  },
  {
   "cell_type": "code",
   "execution_count": 6,
   "metadata": {},
   "outputs": [
    {
     "name": "stdout",
     "output_type": "stream",
     "text": [
      "q0m:  [0, 1] , q1m:  [1, 0]\n"
     ]
    }
   ],
   "source": [
    "#example: displaying measurements in a readable way\n",
    "#use the extract function to get the value of a single qubit from a measurement of set of qubits\n",
    "measurement = MEASURE(q0andq1)\n",
    "q0m = extract(measurement, 0) #here 0 is the qbitindex as it is the 0th element in the tensor product\n",
    "q1m = extract(measurement, 1)\n",
    "print(\"q0m: \", q0m, \", q1m: \", q1m)"
   ]
  },
  {
   "cell_type": "code",
   "execution_count": 7,
   "metadata": {},
   "outputs": [],
   "source": [
    "#so far nothing of note, we created qubits 0 and 1, and measured them together and individually, and found\n",
    "#the same qubits.\n",
    "\n",
    "#this is where things get interesting"
   ]
  },
  {
   "cell_type": "code",
   "execution_count": 8,
   "metadata": {},
   "outputs": [
    {
     "name": "stdout",
     "output_type": "stream",
     "text": [
      "[0.71 + i0.00, -0.71 + i0.00]\n"
     ]
    }
   ],
   "source": [
    "#list of gates so far:\n",
    "#IDEN -> identity, return the same exact value with no change\n",
    "#NOT -> returns the logical not value of the input value\n",
    "#HAD -> Hadamard gate, can put a qubit into superposition of take a qubit already in superposition to normalcy\n",
    "#CNOT -> takes 2 qubits as input; one qubit is designated control, the other target.\n",
    "#        if the control qubit is 0, nothing is done. if the control qubit is 1, the target qubit gets the\n",
    "#        NOT gate applied on it.\n",
    "\n",
    "#example: hadamard gate in action\n",
    "print(HAD(q0))"
   ]
  },
  {
   "cell_type": "code",
   "execution_count": 9,
   "metadata": {},
   "outputs": [
    {
     "name": "stdout",
     "output_type": "stream",
     "text": [
      "q0 value:  [1, 0] , q1 value:  [1, 0]\n"
     ]
    }
   ],
   "source": [
    "#example: measuring 2 qubits in independent superpositions:\n",
    "q0s = HAD(q0)\n",
    "q1s = HAD(q1)\n",
    "\n",
    "measurement = MEASURE(tensor(q0s, q1s))\n",
    "\n",
    "q0m = extract(measurement, 0)\n",
    "q1m = extract(measurement, 1)\n",
    "\n",
    "print(\"q0 value: \", q0m, \", q1 value: \", q1m)\n",
    "#try running this cell a few times to see the various outcomes"
   ]
  },
  {
   "cell_type": "code",
   "execution_count": 10,
   "metadata": {},
   "outputs": [
    {
     "name": "stdout",
     "output_type": "stream",
     "text": [
      "|Ψ00> : 24.85625%, |Ψ01> : 25.906249999999996%, |Ψ10> : 24.725%, |Ψ11> : 24.5125%\n"
     ]
    }
   ],
   "source": [
    "# in the previous example, the qubits were put in superposittion, meaning each had a 50-50 chance of being\n",
    "# either 0 or 1. since both the bits were in superposition, the chance of seeing 00, 01, 10, 11 is \n",
    "# equally likely, even though we started with qubits that were only 0 or 1\n",
    "\n",
    "#to automate the process we did in previous example, the run function can be used.\n",
    "\n",
    "#example: running a measurement multiple times and viewing the outcome:\n",
    "run(shots = 16000, state = tensor(q0s, q1s))\n",
    "\n",
    "#try running the experiment a few times to see the outcomes.\n",
    "#each of the possible states, represented by |Ψ  > is a possible state of the set of qubits.\n",
    "# the percentages show what percent of the total number of measurements made (here 1600) were that particular state\n",
    "#so in this case, where both the bits are euqally likely to be 0 or 1, 00, 01, 10, 11 are all equally likely\n",
    "#hence, each has a 25% share of the total measurements"
   ]
  },
  {
   "cell_type": "code",
   "execution_count": 11,
   "metadata": {},
   "outputs": [
    {
     "name": "stdout",
     "output_type": "stream",
     "text": [
      "|Ψ000> : 13.1875%, |Ψ001> : 13.0%, |Ψ010> : 11.8125%, |Ψ011> : 13.375%, |Ψ100> : 11.5625%, |Ψ101> : 11.4375%, |Ψ110> : 12.625%, |Ψ111> : 13.0%\n"
     ]
    }
   ],
   "source": [
    "#example: multiple superposition (no limit to how many can be in superpostion):\n",
    "state = tensor(HAD(qbit(0)), tensor(HAD(qbit(0)), HAD(qbit(0))))\n",
    "run(1600, state)"
   ]
  },
  {
   "cell_type": "code",
   "execution_count": 12,
   "metadata": {},
   "outputs": [
    {
     "name": "stdout",
     "output_type": "stream",
     "text": [
      "q0 value:  [0, 1] , q1 value:  [0, 1]\n"
     ]
    }
   ],
   "source": [
    "#example: using CNOT:\n",
    "measurement = MEASURE(CNOT(q0, q1))\n",
    "\n",
    "q0m = extract(measurement, 0)\n",
    "q1m = extract(measurement, 1)\n",
    "\n",
    "print(\"q0 value: \", q0m, \", q1 value: \", q1m)\n",
    "\n",
    "#the result is as expected (note, we are using the normal versions of the qubits in this example)"
   ]
  },
  {
   "cell_type": "code",
   "execution_count": 13,
   "metadata": {},
   "outputs": [
    {
     "name": "stdout",
     "output_type": "stream",
     "text": [
      "|Ψ00> : 52.125%, |Ψ01> : 0.0%, |Ψ10> : 0.0%, |Ψ11> : 47.875%\n"
     ]
    }
   ],
   "source": [
    "#example: quantum entanglement:\n",
    "\n",
    "q0h = HAD(q0) #one of the bits is in superposition\n",
    "\n",
    "#the bits are now put into entanglement:\n",
    "state = CNOT(q0h, q1)\n",
    "\n",
    "\n",
    "run(1600, state)\n",
    "#both the bits are always the same value, that is knowing the value of one tells you the other's"
   ]
  },
  {
   "cell_type": "code",
   "execution_count": 14,
   "metadata": {},
   "outputs": [
    {
     "name": "stdout",
     "output_type": "stream",
     "text": [
      "|Ψ00> : 0.0%, |Ψ01> : 48.6875%, |Ψ10> : 51.31250000000001%, |Ψ11> : 0.0%\n"
     ]
    }
   ],
   "source": [
    "#example: quantum entanglement 2:\n",
    "\n",
    "q0h = HAD(q0) #one of the bits is in superposition\n",
    "\n",
    "#the bits are now put into entanglement:\n",
    "state = CNOT(q0h, qbit(1))\n",
    "\n",
    "\n",
    "run(1600, state)\n",
    "#both the bits are always the oppposite value, that is knowing the value of one tells you the other's"
   ]
  },
  {
   "cell_type": "code",
   "execution_count": 15,
   "metadata": {},
   "outputs": [],
   "source": [
    "#dealing with invidual qubits can get tedious, instead a quantum program or qprogram can be used\n",
    "#to simplify all this stuff and run experiments quickly"
   ]
  },
  {
   "cell_type": "code",
   "execution_count": 16,
   "metadata": {},
   "outputs": [
    {
     "name": "stdout",
     "output_type": "stream",
     "text": [
      "\n",
      "Compiling program...\n",
      "\n",
      "q0 (0) ⮕  ---[ H ]---[ I ]---[ H ]---\n",
      "q1 (0) ⮕  ---[ I ]---[ ⦿ ]---[ I ]---\n",
      "\n",
      "Compilation complete!\n",
      "\n"
     ]
    },
    {
     "data": {
      "text/plain": [
       "\n",
       "q0 (0) ⮕  ---[ H ]---[ I ]---[ H ]---\n",
       "q1 (0) ⮕  ---[ I ]---[ ⦿ ]---[ I ]---"
      ]
     },
     "execution_count": 16,
     "metadata": {},
     "output_type": "execute_result"
    }
   ],
   "source": [
    "#example: using a qprogram:\n",
    "\n",
    "#make a qprogram with some qubits\n",
    "myqprogram = qprogram(nqbits = 2)\n",
    "#qubits are always labeled q0 -> q(nqbits-1) from top to bottom\n",
    "#each qubit has a gate-line, which act somewhat like a quantum circuit\n",
    "\n",
    "#adding gates to the qprogram's lines:\n",
    "myqprogram.addgates(qbitindex = 0, gates = [HGATE(), HGATE()])\n",
    "myqprogram.addgates(qbitindex = 1, gates = [IGATE(), CNOTGATE()])\n",
    "#two things of note:\n",
    "#gates supported in qprograms as of now are:\n",
    "#hadamard, identity, cnot, not (with the above gate names)\n",
    "#secondly, cnot gate is assumed to have the target bit at the place it is being called, while the control\n",
    "#qubit is direclty the one above it, with the control handle directly above it\n",
    "\n",
    "#compile the program to see its circuit diagram:\n",
    "myqprogram.compile()\n",
    "#note that identity gates are automatically added to make it easier to understand the working of two input\n",
    "#gates like cnot\n"
   ]
  },
  {
   "cell_type": "code",
   "execution_count": 17,
   "metadata": {},
   "outputs": [
    {
     "name": "stdout",
     "output_type": "stream",
     "text": [
      "|Ψ00> : 27.125%, |Ψ01> : 24.3125%, |Ψ10> : 23.0%, |Ψ11> : 25.5625%\n"
     ]
    }
   ],
   "source": [
    "#run the program to see the output:\n",
    "\n",
    "myqprogram.run()"
   ]
  },
  {
   "cell_type": "code",
   "execution_count": 18,
   "metadata": {},
   "outputs": [
    {
     "name": "stdout",
     "output_type": "stream",
     "text": [
      "Using cache...\n",
      "|Ψ00> : 25.1875%, |Ψ01> : 25.124999999999996%, |Ψ10> : 23.25%, |Ψ11> : 26.437500000000004%\n"
     ]
    },
    {
     "data": {
      "image/png": "[encoded data removed]",
      "text/plain": [
       "<Figure size 432x288 with 1 Axes>"
      ]
     },
     "metadata": {
      "needs_background": "light"
     },
     "output_type": "display_data"
    }
   ],
   "source": [
    "#note: the run function on a program and standalone run functions are the same, and hence take the same\n",
    "#parameters. run can also graph the results\n",
    "myqprogram.run(binary = True, graph = True)\n",
    "#if you are using an ide, the autocomplete should prompt you with all the optional parameters of run that\n",
    "#are available"
   ]
  },
  {
   "cell_type": "code",
   "execution_count": 36,
   "metadata": {},
   "outputs": [
    {
     "name": "stdout",
     "output_type": "stream",
     "text": [
      "Using cache...\n",
      "|Ψ00> : 25.124999999999996%, |Ψ01> : 25.687500000000004%, |Ψ10> : 24.625%, |Ψ11> : 24.5625%\n",
      "\n",
      "Ψ00 ████████████ 25.124999999999996%\n",
      "Ψ01 ████████████ 25.687500000000004%\n",
      "Ψ10 ████████████ 24.625%\n",
      "Ψ11 ████████████ 24.5625%\n",
      "\n"
     ]
    }
   ],
   "source": [
    "#the terminal parameter is used to either display graphs in matplotlib or in terminal\n",
    "#in case matplotlib is not installed, terminal is where all graphs and rendered by default and\n",
    "#the parameter has no effect\n",
    "\n",
    "myqprogram.run(binary = True, graph = True, terminal=True)\n"
   ]
  },
  {
   "cell_type": "code",
   "execution_count": 53,
   "metadata": {},
   "outputs": [
    {
     "name": "stdout",
     "output_type": "stream",
     "text": [
      "\n",
      "Compiling program...\n",
      "\n",
      "q0 (0) ⮕  ---[ H ]---[ I ]---[ I ]---[ I ]---\n",
      "q1 (0) ⮕  ---[ I ]---[ ⦿ ]---[ I ]---[ I ]---\n",
      "q2 (0) ⮕  ---[ I ]---[ I ]---[ ⦿ ]---[ I ]---\n",
      "q3 (0) ⮕  ---[ I ]---[ I ]---[ I ]---[ ⦿ ]---\n",
      "\n",
      "Compilation complete!\n",
      "\n"
     ]
    },
    {
     "data": {
      "text/plain": [
       "\n",
       "q0 (0) ⮕  ---[ H ]---[ I ]---[ I ]---[ I ]---\n",
       "q1 (0) ⮕  ---[ I ]---[ ⦿ ]---[ I ]---[ I ]---\n",
       "q2 (0) ⮕  ---[ I ]---[ I ]---[ ⦿ ]---[ I ]---\n",
       "q3 (0) ⮕  ---[ I ]---[ I ]---[ I ]---[ ⦿ ]---"
      ]
     },
     "execution_count": 53,
     "metadata": {},
     "output_type": "execute_result"
    }
   ],
   "source": [
    "#Example of n qubits in entanglement:\n",
    "\n",
    "numofqubits = 4\n",
    "\n",
    "nentangled = qprogram(numofqubits)\n",
    "\n",
    "nentangled.addgates(0, [HGATE()])\n",
    "\n",
    "for each in range(1, numofqubits):\n",
    "    for i in range(each):\n",
    "        nentangled.addgates(each, [IGATE()])\n",
    "    nentangled.addgates(each, [CNOTGATE()])\n",
    "\n",
    "nentangled.compile()\n"
   ]
  },
  {
   "cell_type": "code",
   "execution_count": 54,
   "metadata": {},
   "outputs": [
    {
     "name": "stdout",
     "output_type": "stream",
     "text": [
      "|Ψ0000> : 52.5%, |Ψ0001> : 0.0%, |Ψ0010> : 0.0%, |Ψ0011> : 0.0%, |Ψ0100> : 0.0%, |Ψ0101> : 0.0%, |Ψ0110> : 0.0%, |Ψ0111> : 0.0%, |Ψ1000> : 0.0%, |Ψ1001> : 0.0%, |Ψ1010> : 0.0%, |Ψ1011> : 0.0%, |Ψ1100> : 0.0%, |Ψ1101> : 0.0%, |Ψ1110> : 0.0%, |Ψ1111> : 47.5%\n",
      "\n",
      "Ψ0000 ██████████████████████████ 52.5%\n",
      "Ψ0001 \n",
      "Ψ0010 \n",
      "Ψ0011 \n",
      "Ψ0100 \n",
      "Ψ0101 \n",
      "Ψ0110 \n",
      "Ψ0111 \n",
      "Ψ1000 \n",
      "Ψ1001 \n",
      "Ψ1010 \n",
      "Ψ1011 \n",
      "Ψ1100 \n",
      "Ψ1101 \n",
      "Ψ1110 \n",
      "Ψ1111 ███████████████████████ 47.5%\n",
      "\n"
     ]
    }
   ],
   "source": [
    "nentangled.run(graph=True, terminal=True)"
   ]
  }
 ],
 "metadata": {
  "interpreter": {
   "hash": "369f2c481f4da34e4445cda3fffd2e751bd1c4d706f27375911949ba6bb62e1c"
  },
  "kernelspec": {
   "display_name": "Python 3.10.2 64-bit",
   "language": "python",
   "name": "python3"
  },
  "language_info": {
   "codemirror_mode": {
    "name": "ipython",
    "version": 3
   },
   "file_extension": ".py",
   "mimetype": "text/x-python",
   "name": "python",
   "nbconvert_exporter": "python",
   "pygments_lexer": "ipython3",
   "version": "3.10.2"
  },
  "orig_nbformat": 4
 },
 "nbformat": 4,
 "nbformat_minor": 2
}
