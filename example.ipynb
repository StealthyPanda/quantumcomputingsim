{
 "cells": [
  {
   "attachments": {},
   "cell_type": "markdown",
   "metadata": {},
   "source": [
    "Quantum.py is a completely self contained library.\n",
    "\n",
    "Optionally, if matplotlib is installed, it can be used for plotting graphs, else graphs can also be rendered in the terminal."
   ]
  },
  {
   "cell_type": "code",
   "execution_count": 1,
   "metadata": {},
   "outputs": [],
   "source": [
    "from quantum import *"
   ]
  },
  {
   "attachments": {},
   "cell_type": "markdown",
   "metadata": {},
   "source": [
    "This library simulates the quantum gates model of quantum computing.\n",
    "\n",
    "Qubits are simply List[int || comp] of length 2, where the values represents the qubit as a vector of basis [ |0> , |1> ].\n",
    "\n",
    "States of the system are also List[int || comp] of length 2^n for some natural number n.\n",
    "The values are again a vector representation of basis [ |0> , |1> , |2> , ... |(2^n) - 1> ].\n",
    "\n",
    "Individual qubits can be made using the qbit(x = 0 or 1) where x denotes the state of the qubit."
   ]
  },
  {
   "cell_type": "code",
   "execution_count": 2,
   "metadata": {},
   "outputs": [
    {
     "name": "stdout",
     "output_type": "stream",
     "text": [
      "q0: [1, 0]\n",
      "q1: [0, 1]\n"
     ]
    }
   ],
   "source": [
    "q0 = qbit(0)\n",
    "q1 = qbit(1)\n",
    "\n",
    "print(\"q0:\", q0)\n",
    "print(\"q1:\", q1)"
   ]
  },
  {
   "attachments": {},
   "cell_type": "markdown",
   "metadata": {},
   "source": [
    "The MEASURE function simply measures any state, and returns a vector representation of the measurement."
   ]
  },
  {
   "cell_type": "code",
   "execution_count": 3,
   "metadata": {},
   "outputs": [
    {
     "data": {
      "text/plain": [
       "[1, 0]"
      ]
     },
     "execution_count": 3,
     "metadata": {},
     "output_type": "execute_result"
    }
   ],
   "source": [
    "MEASURE(q0)\n",
    "#this simply shows the qubit itself, not a surprise there ofc, as the qubit is in the [1, 0] state."
   ]
  },
  {
   "attachments": {},
   "cell_type": "markdown",
   "metadata": {},
   "source": [
    "The qtensor function returns the tensor product of any two states. This function can basically be thought of as the \"combine into a single system\" function."
   ]
  },
  {
   "cell_type": "code",
   "execution_count": 4,
   "metadata": {},
   "outputs": [
    {
     "name": "stdout",
     "output_type": "stream",
     "text": [
      "[0.00 + i0.00, 1.00 + i0.00, 0.00 + i0.00, 0.00 + i0.00]\n",
      "[0, 1, 0, 0]\n"
     ]
    }
   ],
   "source": [
    "q0andq1state = qtensor(q0, q1)\n",
    "\n",
    "print(q0andq1state)\n",
    "print(MEASURE(q0andq1state)) #again, the state and measurement are the same as they are basically the same thing."
   ]
  },
  {
   "attachments": {},
   "cell_type": "markdown",
   "metadata": {},
   "source": [
    "The extract function extracts the state of a single qubit from the state vector of a system."
   ]
  },
  {
   "cell_type": "code",
   "execution_count": 5,
   "metadata": {},
   "outputs": [
    {
     "name": "stdout",
     "output_type": "stream",
     "text": [
      "q0 measured value: [1, 0]\n",
      "q1 measured value: [0, 1]\n"
     ]
    }
   ],
   "source": [
    "measurement = MEASURE(q0andq1state)\n",
    "print(\"q0 measured value:\", extract(measurement, 0))\n",
    "print(\"q1 measured value:\", extract(measurement, 1))"
   ]
  },
  {
   "attachments": {},
   "cell_type": "markdown",
   "metadata": {},
   "source": [
    "# Gates\n",
    "\n",
    "Gates in this library are 2D matrices of values that are comp or int type. The matrices are of type Matrix.\n",
    "\n",
    "Any unitary Matrix is also a valid quantum gate.\n",
    "\n",
    "Some predefined gates are:\n",
    "- IGATE -> Identity gate\n",
    "- HGATE -> Hadamard gate\n",
    "- CNOT0 -> Controlled not gate (control bit at index 0)\n",
    "- CNOT1 -> Controlled not gate (control bit at index 1)\n",
    "- XGATE -> Pauli X gate\n",
    "- YGATE -> Pauli Y gate\n",
    "- ZGATE -> Pauli Z gate\n",
    "- TGATE -> T gate\n",
    "- SWAPGATE -> Swaps the states of 2 qubits\n",
    "- TOFFOLIGATE -> Toffoli gate\n",
    "\n",
    "Besides these, any List[List[comp || int]] can be converted into a gate by converting it into a Matrix type as shown."
   ]
  },
  {
   "attachments": {},
   "cell_type": "markdown",
   "metadata": {},
   "source": [
    "To apply a gate on a state, simply multiply the gate by the state:\n",
    "\n",
    "(Note that vectors can be represented by both row or column matrices. Both are equivalent.)"
   ]
  },
  {
   "cell_type": "code",
   "execution_count": 6,
   "metadata": {},
   "outputs": [
    {
     "name": "stdout",
     "output_type": "stream",
     "text": [
      "[0.71 + i0.00]\n",
      "[0.71 + i0.00] <class 'quantum.Matrix'>\n",
      "\n",
      "[0.71 + i0.00, 0.71 + i0.00] <class 'list'>\n",
      "\n",
      "[0.00 + i0.00, 0.71 + i0.00, 0.00 + i0.00, 0.71 + i0.00]\n"
     ]
    }
   ],
   "source": [
    "#putting q0 in superposition halfway between |0> and |1>.\n",
    "q0super = (HGATE * q0)\n",
    "\n",
    "print(q0super, type(q0super))\n",
    "\n",
    "#converting to a list, as qtensor can take only lists\n",
    "q0super = q0super.getlist()\n",
    "\n",
    "print()\n",
    "print(q0super, type(q0super))\n",
    "\n",
    "#combining q0 in superposition with q1\n",
    "q0superandq1 = qtensor(q0super, q1)\n",
    "print()\n",
    "print(q0superandq1)"
   ]
  },
  {
   "cell_type": "code",
   "execution_count": 7,
   "metadata": {},
   "outputs": [
    {
     "name": "stdout",
     "output_type": "stream",
     "text": [
      "q0 value: [0, 1] , q1 value: [0, 1]\n"
     ]
    }
   ],
   "source": [
    "m = MEASURE(q0superandq1)\n",
    "print(\"q0 value:\", extract(m, 0), \", q1 value:\", extract(m, 1))\n",
    "\n",
    "#try running this cell a few times to see the different values the system can take"
   ]
  },
  {
   "attachments": {},
   "cell_type": "markdown",
   "metadata": {},
   "source": [
    "The run function can perform a large number of measurements of a givne state to analyse patterns."
   ]
  },
  {
   "cell_type": "code",
   "execution_count": 8,
   "metadata": {},
   "outputs": [
    {
     "name": "stdout",
     "output_type": "stream",
     "text": [
      "|Ψ00> : 23.375%, |Ψ01> : 27.187499999999996%, |Ψ10> : 24.4375%, |Ψ11> : 25.0%\n"
     ]
    },
    {
     "data": {
      "image/png": "[encoded data removed]",
      "text/plain": [
       "<Figure size 576x432 with 1 Axes>"
      ]
     },
     "metadata": {
      "needs_background": "light"
     },
     "output_type": "display_data"
    }
   ],
   "source": [
    "run(\n",
    "    shots = 1600,\n",
    "    state = qtensor( (HGATE * q0).getlist() , (HGATE * q1).getlist() ),\n",
    "    graph = True,\n",
    "    figsize = (8, 6)\n",
    ")"
   ]
  },
  {
   "attachments": {},
   "cell_type": "markdown",
   "metadata": {},
   "source": [
    "# Qprogram\n",
    "\n",
    "To deal with larger number of qubits, a qprogram can be used:"
   ]
  },
  {
   "cell_type": "code",
   "execution_count": 9,
   "metadata": {},
   "outputs": [
    {
     "name": "stdout",
     "output_type": "stream",
     "text": [
      "\n",
      "Compiling Superposition qprogram example...\n",
      "\n",
      "Superposition qprogram example\n",
      "q0(0) ⮕  -----[ h ]-----\n",
      "q1(0) ⮕  -----[ h ]-----\n",
      "\n",
      "\n",
      "Compilation of Superposition qprogram example complete!\n",
      "\n"
     ]
    }
   ],
   "source": [
    "qprog = qprogram(2, name = \"Superposition qprogram example\")\n",
    "\n",
    "qprog.addgates(0, [HGATE])\n",
    "qprog.addgates(1, [HGATE])\n",
    "\n",
    "qprog.compile()"
   ]
  },
  {
   "attachments": {},
   "cell_type": "markdown",
   "metadata": {},
   "source": [
    "Run the program with qprogram.run()"
   ]
  },
  {
   "cell_type": "code",
   "execution_count": 10,
   "metadata": {},
   "outputs": [
    {
     "name": "stdout",
     "output_type": "stream",
     "text": [
      "|Ψ00> : 24.3125%, |Ψ01> : 26.5%, |Ψ10> : 25.124999999999996%, |Ψ11> : 24.0625%\n"
     ]
    },
    {
     "data": {
      "image/png": "[encoded data removed]",
      "text/plain": [
       "<Figure size 1584x576 with 1 Axes>"
      ]
     },
     "metadata": {
      "needs_background": "light"
     },
     "output_type": "display_data"
    }
   ],
   "source": [
    "qprog.run(graph = True)"
   ]
  },
  {
   "attachments": {},
   "cell_type": "markdown",
   "metadata": {},
   "source": [
    "Quantum entanglement example:"
   ]
  },
  {
   "cell_type": "code",
   "execution_count": 11,
   "metadata": {},
   "outputs": [
    {
     "name": "stdout",
     "output_type": "stream",
     "text": [
      "\n",
      "Compiling Entanglement example...\n",
      "\n",
      "Entanglement example\n",
      "q0(0) ⮕  -----[ h ]--⌈ c0 c0 ⌉-------\n",
      "q1(0) ⮕  ------------⌊ c0 c0 ⌋-------\n",
      "\n",
      "\n",
      "Compilation of Entanglement example complete!\n",
      "\n",
      "|Ψ00> : 48.125%, |Ψ01> : 0.0%, |Ψ10> : 0.0%, |Ψ11> : 51.87500000000001%\n"
     ]
    },
    {
     "data": {
      "image/png": "[encoded data removed]",
      "text/plain": [
       "<Figure size 1584x576 with 1 Axes>"
      ]
     },
     "metadata": {
      "needs_background": "light"
     },
     "output_type": "display_data"
    }
   ],
   "source": [
    "entangled = qprogram(2, name = \"Entanglement example\")\n",
    "\n",
    "entangled.addgates(0, [HGATE, CNOT0])\n",
    "entangled.addgates(1, [])\n",
    "\n",
    "entangled.compile()\n",
    "entangled.run(graph = True)"
   ]
  },
  {
   "attachments": {},
   "cell_type": "markdown",
   "metadata": {},
   "source": [
    "Internally, a qprogram is just a series of quantum gates (matrices) that when compiled, get tensored properly to form a single matrix representing the entire program. Hence, an entire qprogram can also be converted to a block which can be treated as a gate and as a qprogram."
   ]
  },
  {
   "cell_type": "code",
   "execution_count": 12,
   "metadata": {},
   "outputs": [
    {
     "name": "stdout",
     "output_type": "stream",
     "text": [
      "\n",
      "eb_block\n",
      "q0(0) ⮕  -----[ h ]--⌈ c0 c0 ⌉-------\n",
      "q1(0) ⮕  ------------⌊ c0 c0 ⌋-------\n",
      "\n"
     ]
    }
   ],
   "source": [
    "eb = entangled.getblock(blockid='eb')\n",
    "\n",
    "print(eb)"
   ]
  },
  {
   "cell_type": "code",
   "execution_count": 13,
   "metadata": {},
   "outputs": [
    {
     "name": "stdout",
     "output_type": "stream",
     "text": [
      "\n",
      "Compiling eb_block...\n",
      "\n",
      "eb_block\n",
      "q0(0) ⮕  -----[ h ]--⌈ c0 c0 ⌉-------------------------\n",
      "q1(0) ⮕  ------------⌊ c0 c0 ⌋------[ h ]----[ x ]-----\n",
      "\n",
      "\n",
      "Compilation of eb_block complete!\n",
      "\n"
     ]
    }
   ],
   "source": [
    "#extending the block\n",
    "eb.addgates(1, [HGATE, XGATE])\n",
    "eb.compile()"
   ]
  },
  {
   "cell_type": "code",
   "execution_count": 14,
   "metadata": {},
   "outputs": [
    {
     "name": "stdout",
     "output_type": "stream",
     "text": [
      "|Ψ00> : 23.4375%, |Ψ01> : 26.25%, |Ψ10> : 26.8125%, |Ψ11> : 23.5%\n"
     ]
    }
   ],
   "source": [
    "#you can run the block itself:\n",
    "eb.run()"
   ]
  },
  {
   "cell_type": "code",
   "execution_count": 15,
   "metadata": {},
   "outputs": [
    {
     "name": "stdout",
     "output_type": "stream",
     "text": [
      "\n",
      "Compiling Entanglement example...\n",
      "\n",
      "Entanglement example\n",
      "q0(0) ⮕  -----[ h ]--⌈ c0 c0 ⌉----⌈ eb eb ⌉-------\n",
      "q1(0) ⮕  ------------⌊ c0 c0 ⌋----⌊ eb eb ⌋-------\n",
      "\n",
      "\n",
      "Compilation of Entanglement example complete!\n",
      "\n",
      "\n",
      "eb_block\n",
      "q0(0) ⮕  -----[ h ]--⌈ c0 c0 ⌉-------------------------\n",
      "q1(0) ⮕  ------------⌊ c0 c0 ⌋------[ h ]----[ x ]-----\n",
      "\n"
     ]
    }
   ],
   "source": [
    "#or add it as a gate to a qprogram:\n",
    "\n",
    "entangled.addgates(0, [eb])\n",
    "\n",
    "entangled.compile()\n",
    "\n",
    "print(eb)"
   ]
  },
  {
   "attachments": {},
   "cell_type": "markdown",
   "metadata": {},
   "source": [
    "Any changes in the blocks will automatically reflect in any qprogram that uses the block, provided it has been updated by compiling before running the parent program."
   ]
  },
  {
   "cell_type": "code",
   "execution_count": 16,
   "metadata": {},
   "outputs": [
    {
     "name": "stdout",
     "output_type": "stream",
     "text": [
      "|Ψ00> : 0.0%, |Ψ01> : 48.9375%, |Ψ10> : 51.0625%, |Ψ11> : 0.0%\n"
     ]
    },
    {
     "data": {
      "image/png": "[encoded data removed]",
      "text/plain": [
       "<Figure size 1584x576 with 1 Axes>"
      ]
     },
     "metadata": {
      "needs_background": "light"
     },
     "output_type": "display_data"
    }
   ],
   "source": [
    "entangled.run(graph=True)"
   ]
  },
  {
   "attachments": {},
   "cell_type": "markdown",
   "metadata": {},
   "source": [
    "Or a block can be converted into a plain gate (which is just a matrix)."
   ]
  },
  {
   "cell_type": "code",
   "execution_count": 17,
   "metadata": {},
   "outputs": [
    {
     "name": "stdout",
     "output_type": "stream",
     "text": [
      "<class 'quantum.Matrix'>\n",
      "[0.50 + i0.00, -0.50 + i0.00, 0.50 + i0.00, -0.50 + i0.00]\n",
      "[0.50 + i0.00, 0.50 + i0.00, 0.50 + i0.00, 0.50 + i0.00]\n",
      "[-0.50 + i0.00, 0.50 + i0.00, 0.50 + i0.00, -0.50 + i0.00]\n",
      "[0.50 + i0.00, 0.50 + i0.00, -0.50 + i0.00, -0.50 + i0.00]\n"
     ]
    }
   ],
   "source": [
    "ebgate = eb.getmat()\n",
    "\n",
    "print(type(ebgate))\n",
    "print(ebgate)"
   ]
  },
  {
   "attachments": {},
   "cell_type": "markdown",
   "metadata": {},
   "source": [
    "The controlledU function can be used to quickly make controlled gates with the control bit at index 0."
   ]
  },
  {
   "cell_type": "code",
   "execution_count": 18,
   "metadata": {},
   "outputs": [
    {
     "name": "stdout",
     "output_type": "stream",
     "text": [
      "\n",
      "Compiling program...\n",
      "\n",
      "\n",
      "q0(0) ⮕  -----[ h ]--⌈ C_x C_x ⌉-------\n",
      "q1(0) ⮕  ------------⌊ C_x C_x ⌋-------\n",
      "\n",
      "\n",
      "Compilation complete!\n",
      "\n",
      "|Ψ00> : 48.8125%, |Ψ01> : 0.0%, |Ψ10> : 0.0%, |Ψ11> : 51.1875%\n"
     ]
    },
    {
     "data": {
      "image/png": "[encoded data removed]",
      "text/plain": [
       "<Figure size 1584x576 with 1 Axes>"
      ]
     },
     "metadata": {
      "needs_background": "light"
     },
     "output_type": "display_data"
    }
   ],
   "source": [
    "cnot = controlledU(XGATE)\n",
    "\n",
    "cnotexample = qprogram(2)\n",
    "\n",
    "cnotexample.addgates(0, [HGATE, cnot])\n",
    "\n",
    "cnotexample.compile()\n",
    "\n",
    "cnotexample.run(graph=True)"
   ]
  }
 ],
 "metadata": {
  "kernelspec": {
   "display_name": "Python 3",
   "language": "python",
   "name": "python3"
  },
  "language_info": {
   "codemirror_mode": {
    "name": "ipython",
    "version": 3
   },
   "file_extension": ".py",
   "mimetype": "text/x-python",
   "name": "python",
   "nbconvert_exporter": "python",
   "pygments_lexer": "ipython3",
   "version": "3.10.6"
  },
  "orig_nbformat": 4,
  "vscode": {
   "interpreter": {
    "hash": "36e14c9e1cb80b7a58229a4cedc7e1c8b89be16b99cace3d6c4a4df49851e531"
   }
  }
 },
 "nbformat": 4,
 "nbformat_minor": 2
}
