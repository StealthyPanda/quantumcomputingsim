{
 "cells": [
  {
   "cell_type": "code",
   "execution_count": null,
   "metadata": {},
   "outputs": [],
   "source": [
    "#Make sure to run this cell as the start\n",
    "from quantum import *"
   ]
  },
  {
   "cell_type": "code",
   "execution_count": null,
   "metadata": {},
   "outputs": [],
   "source": [
    "# create a qubit using the qbit(x) function, where x is the default value of the bit:\n",
    "q0 = qbit(1)\n",
    "q1 = qbit(0)\n",
    "#qubit 1 is represented by [0 1] while qubit 0 is [1 0]\n",
    "\n",
    "\n",
    "#all qbits are just a list of 2 elements, elements being either real or complex\n",
    "#complex numbers in this library are handled with `comp` class, and Matrices with `Matrix` class\n",
    "print(\"q0:\", q0, \", q1:\", q1)"
   ]
  },
  {
   "cell_type": "code",
   "execution_count": null,
   "metadata": {},
   "outputs": [],
   "source": [
    "#gates are applied on qubits using the corresponding gate funtions.\n",
    "#as of now, IDEN (identity), NOT (not), HAD (hadamard), CNOT (controlled not) gates have been implemented. \n",
    "#however, after application of CNOT gate I still haven't figured out how to use other gates\n",
    "\n",
    "#to see the outcome of a computation, use the MEASURE function\n",
    "#Measurement can be done on a single qubit or a set of qubits. If multiple qubits are to be measured,\n",
    "#then we must pass the inner tensor product of these qubits to MEASURE. tensor product can be \n",
    "#calculated using the tensor function."
   ]
  },
  {
   "cell_type": "code",
   "execution_count": null,
   "metadata": {},
   "outputs": [],
   "source": [
    "#example: measures a single qubit (here the qubit is 1, so measurement is always 1, try running this line a few times)\n",
    "print(MEASURE(q0))\n",
    "# print(MEASURE(q1))\n",
    "\n",
    "#example: measuring a set of qubits:\n",
    "q0andq1 = tensor(q0, q1)\n",
    "print(MEASURE(q0andq1))"
   ]
  },
  {
   "cell_type": "code",
   "execution_count": null,
   "metadata": {},
   "outputs": [],
   "source": [
    "#example: displaying measurements in a readable way\n",
    "#use the extract function to get the value of a single qubit from a measurement of set of qubits\n",
    "measurement = MEASURE(q0andq1)\n",
    "q0m = extract(measurement, 0) #here 0 is the qbitindex as it is the 0th element in the tensor product\n",
    "q1m = extract(measurement, 1)\n",
    "print(\"q0m: \", q0m, \", q1m: \", q1m)"
   ]
  },
  {
   "cell_type": "code",
   "execution_count": null,
   "metadata": {},
   "outputs": [],
   "source": [
    "#so far nothing of note, we created qubits 0 and 1, and measured them together and individually, and found\n",
    "#the same qubits.\n",
    "\n",
    "#this is where things get interesting"
   ]
  },
  {
   "cell_type": "code",
   "execution_count": null,
   "metadata": {},
   "outputs": [],
   "source": [
    "#list of gates so far:\n",
    "#IDEN -> identity, return the same exact value with no change\n",
    "#NOT -> returns the logical not value of the input value\n",
    "#HAD -> Hadamard gate, can put a qubit into superposition of take a qubit already in superposition to normalcy\n",
    "#CNOT -> takes 2 qubits as input; one qubit is designated control, the other target.\n",
    "#        if the control qubit is 0, nothing is done. if the control qubit is 1, the target qubit gets the\n",
    "#        NOT gate applied on it.\n",
    "\n",
    "#example: hadamard gate in action\n",
    "print(HAD(q0))"
   ]
  },
  {
   "cell_type": "code",
   "execution_count": null,
   "metadata": {},
   "outputs": [],
   "source": [
    "#example: measuring 2 qubits in independent superpositions:\n",
    "q0s = HAD(q0)\n",
    "q1s = HAD(q1)\n",
    "\n",
    "measurement = MEASURE(tensor(q0s, q1s))\n",
    "\n",
    "q0m = extract(measurement, 0)\n",
    "q1m = extract(measurement, 1)\n",
    "\n",
    "print(\"q0 value: \", q0m, \", q1 value: \", q1m)\n",
    "#try running this cell a few times to see the various outcomes"
   ]
  },
  {
   "cell_type": "code",
   "execution_count": null,
   "metadata": {},
   "outputs": [],
   "source": [
    "# in the previous example, the qubits were put in superposittion, meaning each had a 50-50 chance of being\n",
    "# either 0 or 1. since both the bits were in superposition, the chance of seeing 00, 01, 10, 11 is \n",
    "# equally likely, even though we started with qubits that were only 0 or 1\n",
    "\n",
    "#to automate the process we did in previous example, the run function can be used.\n",
    "\n",
    "#example: running a measurement multiple times and viewing the outcome:\n",
    "run(shots = 16000, state = tensor(q0s, q1s))\n",
    "\n",
    "#try running the experiment a few times to see the outcomes.\n",
    "#each of the possible states, represented by |Ψ  > is a possible state of the set of qubits.\n",
    "# the percentages show what percent of the total number of measurements made (here 1600) were that particular state\n",
    "#so in this case, where both the bits are euqally likely to be 0 or 1, 00, 01, 10, 11 are all equally likely\n",
    "#hence, each has a 25% share of the total measurements"
   ]
  },
  {
   "cell_type": "code",
   "execution_count": null,
   "metadata": {},
   "outputs": [],
   "source": [
    "#example: multiple superposition (no limit to how many can be in superpostion):\n",
    "state = tensor(HAD(qbit(0)), tensor(HAD(qbit(0)), HAD(qbit(0))))\n",
    "run(1600, state)"
   ]
  },
  {
   "cell_type": "code",
   "execution_count": null,
   "metadata": {},
   "outputs": [],
   "source": [
    "#example: using CNOT:\n",
    "measurement = MEASURE(CNOT(q0, q1))\n",
    "\n",
    "q0m = extract(measurement, 0)\n",
    "q1m = extract(measurement, 1)\n",
    "\n",
    "print(\"q0 value: \", q0m, \", q1 value: \", q1m)\n",
    "\n",
    "#the result is as expected (note, we are using the normal versions of the qubits in this example)"
   ]
  },
  {
   "cell_type": "code",
   "execution_count": null,
   "metadata": {},
   "outputs": [],
   "source": [
    "#example: quantum entanglement:\n",
    "\n",
    "q0h = HAD(q0) #one of the bits is in superposition\n",
    "\n",
    "#the bits are now put into entanglement:\n",
    "state = CNOT(q0h, q1)\n",
    "\n",
    "\n",
    "run(1600, state)\n",
    "#both the bits are always the same value, that is knowing the value of one tells you the other's"
   ]
  },
  {
   "cell_type": "code",
   "execution_count": null,
   "metadata": {},
   "outputs": [],
   "source": [
    "#example: quantum entanglement 2:\n",
    "\n",
    "q0h = HAD(q0) #one of the bits is in superposition\n",
    "\n",
    "#the bits are now put into entanglement:\n",
    "state = CNOT(q0h, qbit(1))\n",
    "\n",
    "\n",
    "run(1600, state)\n",
    "#both the bits are always the oppposite value, that is knowing the value of one tells you the other's"
   ]
  },
  {
   "cell_type": "code",
   "execution_count": null,
   "metadata": {},
   "outputs": [],
   "source": [
    "#dealing with invidual qubits can get tedious, instead a quantum program or qprogram can be used\n",
    "#to simplify all this stuff and run experiments quickly"
   ]
  },
  {
   "cell_type": "code",
   "execution_count": null,
   "metadata": {},
   "outputs": [],
   "source": [
    "#example: using a qprogram:\n",
    "\n",
    "#make a qprogram with some qubits\n",
    "myqprogram = qprogram(nqbits = 2)\n",
    "#qubits are always labeled q0 -> q(nqbits-1) from top to bottom\n",
    "#each qubit has a gate-line, which act somewhat like a quantum circuit\n",
    "\n",
    "#adding gates to the qprogram's lines:\n",
    "myqprogram.addgates(qbitindex = 0, gates = [HGATE(), HGATE(), IGATE(), NGATE()])\n",
    "myqprogram.addgates(qbitindex = 1, gates = [IGATE(), CNOTGATE()])\n",
    "#two things of note:\n",
    "#gates supported in qprograms as of now are:\n",
    "#hadamard, identity, cnot, not (with the above gate names)\n",
    "#secondly, cnot gate is assumed to have the target bit at the place it is being called, while the control\n",
    "#qubit is direclty the one above it, with the control handle directly above it\n",
    "\n",
    "#compile the program to see its circuit diagram:\n",
    "myqprogram.compile()\n",
    "#note that identity gates are automatically added to make it easier to understand the working of two input\n",
    "#gates like cnot\n"
   ]
  },
  {
   "cell_type": "code",
   "execution_count": null,
   "metadata": {},
   "outputs": [],
   "source": [
    "#run the program to see the output:\n",
    "\n",
    "myqprogram.run()"
   ]
  },
  {
   "cell_type": "code",
   "execution_count": null,
   "metadata": {},
   "outputs": [],
   "source": [
    "#note: the run function on a program and standalone run functions are the same, and hence take the same\n",
    "#parameters. run can also graph the results\n",
    "myqprogram.run(binary = True, graph = True)\n",
    "#if you are using an ide, the autocomplete should prompt you with all the optional parameters of run that\n",
    "#are available"
   ]
  }
 ],
 "metadata": {
  "interpreter": {
   "hash": "916dbcbb3f70747c44a77c7bcd40155683ae19c65e1c03b4aa3499c5328201f1"
  },
  "kernelspec": {
   "display_name": "Python 3.8.10 64-bit",
   "language": "python",
   "name": "python3"
  },
  "language_info": {
   "codemirror_mode": {
    "name": "ipython",
    "version": 3
   },
   "file_extension": ".py",
   "mimetype": "text/x-python",
   "name": "python",
   "nbconvert_exporter": "python",
   "pygments_lexer": "ipython3",
   "version": "3.8.10"
  },
  "orig_nbformat": 4
 },
 "nbformat": 4,
 "nbformat_minor": 2
}
