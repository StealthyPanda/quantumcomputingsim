{
 "cells": [
  {
   "cell_type": "code",
   "execution_count": 8,
   "metadata": {},
   "outputs": [],
   "source": [
    "from quantum import *"
   ]
  },
  {
   "cell_type": "code",
   "execution_count": 213,
   "metadata": {},
   "outputs": [],
   "source": [
    "from random import randint\n",
    "gate = [IGATE(), NGATE(), SETTOGATE(0), SETTOGATE(1)][randint(0, 3)]\n",
    "def blackbox(outputq, inputq):\n",
    "    global gate\n",
    "    print()\n",
    "    print(gate, '\\n')\n",
    "    outputq = gate ** inputq\n",
    "    return (outputq, inputq)"
   ]
  },
  {
   "cell_type": "code",
   "execution_count": 258,
   "metadata": {},
   "outputs": [
    {
     "name": "stdout",
     "output_type": "stream",
     "text": [
      "\n",
      "[0.00 + i0.00, 0.00 + i0.00]\n",
      "[1.00 + i0.00, 1.00 + i0.00] \n",
      "\n",
      "[0.00 + i0.00, 0.00 + i0.00] [0, 0]\n"
     ]
    }
   ],
   "source": [
    "inputq, outputq = HAD(qbit(1)), HAD(qbit(0))\n",
    "outputq, inputq = blackbox(outputq, inputq)\n",
    "outputq = HAD(outputq)\n",
    "print(outputq, MEASURE(outputq))"
   ]
  }
 ],
 "metadata": {
  "interpreter": {
   "hash": "369f2c481f4da34e4445cda3fffd2e751bd1c4d706f27375911949ba6bb62e1c"
  },
  "kernelspec": {
   "display_name": "Python 3.10.2 64-bit",
   "language": "python",
   "name": "python3"
  },
  "language_info": {
   "codemirror_mode": {
    "name": "ipython",
    "version": 3
   },
   "file_extension": ".py",
   "mimetype": "text/x-python",
   "name": "python",
   "nbconvert_exporter": "python",
   "pygments_lexer": "ipython3",
   "version": "3.10.2"
  },
  "orig_nbformat": 4
 },
 "nbformat": 4,
 "nbformat_minor": 2
}
