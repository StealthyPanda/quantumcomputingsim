{
 "cells": [
  {
   "cell_type": "code",
   "execution_count": 1,
   "metadata": {},
   "outputs": [],
   "source": [
    "from quantum import *"
   ]
  },
  {
   "cell_type": "code",
   "execution_count": 2,
   "metadata": {},
   "outputs": [
    {
     "name": "stdout",
     "output_type": "stream",
     "text": [
      "\n",
      "B_program\n",
      "q0(0) ⮕  -----[ h ]--⌈ c0 c0 ⌉-------\n",
      "q1(0) ⮕  ------------⌊ c0 c0 ⌋-------\n",
      "\n"
     ]
    }
   ],
   "source": [
    "bell = Block(2, 'B')\n",
    "bell.addgates(0, [hgate, cnot0])\n",
    "print(bell)"
   ]
  },
  {
   "cell_type": "code",
   "execution_count": 3,
   "metadata": {},
   "outputs": [
    {
     "name": "stdout",
     "output_type": "stream",
     "text": [
      "\n",
      "Compiling program...\n",
      "\n",
      "\n",
      "q0(0) ⮕  ---⌈ B B ⌉--⌈ B B ⌉--⌈ B B ⌉-----------\n",
      "q1(0) ⮕  ---⌊ B B ⌋--⌊ B B ⌋--⌊ B B ⌋-----------\n",
      "\n",
      "\n",
      "Compilation complete!\n",
      "\n",
      "|Ψ00> : 0.0%, |Ψ01> : 50.4375%, |Ψ10> : 0.0%, |Ψ11> : 49.5625%\n"
     ]
    },
    {
     "data": {
      "image/png": "[encoded data removed]",
      "text/plain": [
       "<Figure size 432x288 with 1 Axes>"
      ]
     },
     "metadata": {
      "needs_background": "light"
     },
     "output_type": "display_data"
    }
   ],
   "source": [
    "q = qprogram(2)\n",
    "q.addgates(0, [bell, bell, bell])\n",
    "q.compile()\n",
    "q.run(graph = True)"
   ]
  },
  {
   "cell_type": "code",
   "execution_count": 5,
   "metadata": {},
   "outputs": [
    {
     "name": "stdout",
     "output_type": "stream",
     "text": [
      "\n",
      "Compiling program...\n",
      "\n",
      "\n",
      "q0(0) ⮕  ---⌈ B B ⌉--⌈ B B ⌉--⌈ B B ⌉-----------\n",
      "q1(0) ⮕  ---⌊ B B ⌋--⌊ B B ⌋--⌊ B B ⌋-----------\n",
      "\n",
      "\n",
      "Compilation complete!\n",
      "\n",
      "|Ψ00> : 25.4375%, |Ψ01> : 23.8125%, |Ψ10> : 26.25%, |Ψ11> : 24.5%\n"
     ]
    },
    {
     "data": {
      "image/png": "[encoded data removed]",
      "text/plain": [
       "<Figure size 432x288 with 1 Axes>"
      ]
     },
     "metadata": {
      "needs_background": "light"
     },
     "output_type": "display_data"
    },
    {
     "name": "stdout",
     "output_type": "stream",
     "text": [
      "\n",
      "B_program\n",
      "q0(0) ⮕  -----[ h ]--⌈ c0 c0 ⌉----[ h ]-----\n",
      "q1(0) ⮕  ------------⌊ c0 c0 ⌋--------------\n",
      "\n"
     ]
    }
   ],
   "source": [
    "bell.addgates(0, [hgate])\n",
    "q.compile()\n",
    "q.run(graph=True)\n",
    "print(bell)"
   ]
  }
 ],
 "metadata": {
  "kernelspec": {
   "display_name": "Python 3",
   "language": "python",
   "name": "python3"
  },
  "language_info": {
   "codemirror_mode": {
    "name": "ipython",
    "version": 3
   },
   "file_extension": ".py",
   "mimetype": "text/x-python",
   "name": "python",
   "nbconvert_exporter": "python",
   "pygments_lexer": "ipython3",
   "version": "3.10.6"
  },
  "orig_nbformat": 4,
  "vscode": {
   "interpreter": {
    "hash": "36e14c9e1cb80b7a58229a4cedc7e1c8b89be16b99cace3d6c4a4df49851e531"
   }
  }
 },
 "nbformat": 4,
 "nbformat_minor": 2
}
