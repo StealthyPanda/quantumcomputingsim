{
 "cells": [
  {
   "cell_type": "code",
   "execution_count": 1,
   "metadata": {},
   "outputs": [],
   "source": [
    "from quantum import *"
   ]
  },
  {
   "cell_type": "code",
   "execution_count": 2,
   "metadata": {},
   "outputs": [],
   "source": [
    "ch = controlledU(hgate)"
   ]
  },
  {
   "cell_type": "code",
   "execution_count": 3,
   "metadata": {},
   "outputs": [],
   "source": [
    "q = qprogram(2, [1, 0])\n",
    "q.addgates(0, [hgate, ch])"
   ]
  },
  {
   "cell_type": "code",
   "execution_count": 4,
   "metadata": {},
   "outputs": [
    {
     "name": "stdout",
     "output_type": "stream",
     "text": [
      "\n",
      "Compiling program...\n",
      "\n",
      "\n",
      "q0(1) ⮕  -----[ h ]--⌈ C_h C_h ⌉-------\n",
      "q1(0) ⮕  ------------⌊ C_h C_h ⌋-------\n",
      "\n",
      "\n",
      "Compilation complete!\n",
      "\n",
      "|Ψ00> : 51.0%, |Ψ01> : 0.0%, |Ψ10> : 24.4375%, |Ψ11> : 24.5625%\n"
     ]
    },
    {
     "data": {
      "image/png": "[encoded data removed]",
      "text/plain": [
       "<Figure size 432x288 with 1 Axes>"
      ]
     },
     "metadata": {
      "needs_background": "light"
     },
     "output_type": "display_data"
    }
   ],
   "source": [
    "q.compile()\n",
    "q.run(graph=True)"
   ]
  },
  {
   "cell_type": "code",
   "execution_count": 5,
   "metadata": {},
   "outputs": [],
   "source": [
    "rps = qprogram(2)\n",
    "\n",
    "rps.addgates(0, [hgate, cnot0, rgate(pi/3.3)])\n",
    "rps.addgates(1, [igate])"
   ]
  },
  {
   "cell_type": "code",
   "execution_count": 6,
   "metadata": {},
   "outputs": [
    {
     "name": "stdout",
     "output_type": "stream",
     "text": [
      "\n",
      "Compiling program...\n",
      "\n",
      "\n",
      "q0(0) ⮕  -----[ h ]--⌈ c0 c0 ⌉--[ r(0.9519977738150889) ]-------\n",
      "q1(0) ⮕  ------------⌊ c0 c0 ⌋----------------------------------\n",
      "\n",
      "\n",
      "Compilation complete!\n",
      "\n",
      "|Ψ00> : 30.75%, |Ψ01> : 17.5625%, |Ψ10> : 16.6875%, |Ψ11> : 35.0%\n"
     ]
    },
    {
     "data": {
      "image/png": "[encoded data removed]",
      "text/plain": [
       "<Figure size 432x288 with 1 Axes>"
      ]
     },
     "metadata": {
      "needs_background": "light"
     },
     "output_type": "display_data"
    }
   ],
   "source": [
    "rps.compile()\n",
    "rps.run(graph=True)"
   ]
  },
  {
   "cell_type": "code",
   "execution_count": 7,
   "metadata": {},
   "outputs": [],
   "source": [
    "new = qprogram(2)\n",
    "new.addgates(0, [hgate, cnot0])"
   ]
  },
  {
   "cell_type": "code",
   "execution_count": 15,
   "metadata": {},
   "outputs": [],
   "source": [
    "new.gates[1] = []\n",
    "new.addgates(0, [hgate])"
   ]
  },
  {
   "cell_type": "code",
   "execution_count": 17,
   "metadata": {},
   "outputs": [
    {
     "name": "stdout",
     "output_type": "stream",
     "text": [
      "\n",
      "Compiling program...\n",
      "\n",
      "\n",
      "q0(0) ⮕  -----[ h ]--⌈ c0 c0 ⌉--------[ h ]-------\n",
      "q1(0) ⮕  ------------⌊ c0 c0 ⌋--------------------\n",
      "\n",
      "\n",
      "Compilation complete!\n",
      "\n",
      "|Ψ00> : 25.0625%, |Ψ01> : 24.125%, |Ψ10> : 26.937499999999996%, |Ψ11> : 23.875%\n"
     ]
    },
    {
     "data": {
      "image/png": "[encoded data removed]",
      "text/plain": [
       "<Figure size 432x288 with 1 Axes>"
      ]
     },
     "metadata": {
      "needs_background": "light"
     },
     "output_type": "display_data"
    }
   ],
   "source": [
    "new.compile()\n",
    "new.run(graph=True)"
   ]
  }
 ],
 "metadata": {
  "kernelspec": {
   "display_name": "Python 3",
   "language": "python",
   "name": "python3"
  },
  "language_info": {
   "codemirror_mode": {
    "name": "ipython",
    "version": 3
   },
   "file_extension": ".py",
   "mimetype": "text/x-python",
   "name": "python",
   "nbconvert_exporter": "python",
   "pygments_lexer": "ipython3",
   "version": "3.10.6"
  },
  "orig_nbformat": 4,
  "vscode": {
   "interpreter": {
    "hash": "36e14c9e1cb80b7a58229a4cedc7e1c8b89be16b99cace3d6c4a4df49851e531"
   }
  }
 },
 "nbformat": 4,
 "nbformat_minor": 2
}
