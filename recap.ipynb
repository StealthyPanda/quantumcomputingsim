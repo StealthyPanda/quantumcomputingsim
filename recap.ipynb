{
 "cells": [
  {
   "cell_type": "code",
   "execution_count": 1,
   "metadata": {},
   "outputs": [],
   "source": [
    "from quantum import *"
   ]
  },
  {
   "cell_type": "code",
   "execution_count": 2,
   "metadata": {},
   "outputs": [
    {
     "name": "stdout",
     "output_type": "stream",
     "text": [
      "[1.00 + i0.00, 0.00 + i0.00, 0.00 + i0.00, 0.00 + i0.00]\n",
      "[0.00 + i0.00, 0.00 + i0.00, 0.00 + i0.00, 1.00 + i0.00]\n",
      "[0.00 + i0.00, 0.00 + i0.00, 1.00 + i0.00, 0.00 + i0.00]\n",
      "[0.00 + i0.00, 1.00 + i0.00, 0.00 + i0.00, 0.00 + i0.00]\n",
      "\n",
      "[0.00 + i0.00, 0.00 + i0.00, 1.00 + i0.00, 0.00 + i0.00]\n",
      "[0.00 + i0.00, 0.00 + i0.00, 0.00 + i0.00, 1.00 + i0.00]\n",
      "[0.00 + i0.00, 1.00 + i0.00, 0.00 + i0.00, 0.00 + i0.00]\n",
      "[1.00 + i0.00, 0.00 + i0.00, 0.00 + i0.00, 0.00 + i0.00]\n"
     ]
    }
   ],
   "source": [
    "print(FLIPPEDCNOTGATE())\n",
    "print()\n",
    "print(flipgate(CNOTGATE()))"
   ]
  },
  {
   "cell_type": "code",
   "execution_count": 3,
   "metadata": {},
   "outputs": [],
   "source": [
    "#00 -> 00\n",
    "#01 -> 11\n",
    "#10 -> 10\n",
    "#11 -> 01"
   ]
  },
  {
   "cell_type": "code",
   "execution_count": 4,
   "metadata": {},
   "outputs": [
    {
     "name": "stdout",
     "output_type": "stream",
     "text": [
      "\n",
      "Compiling program...\n",
      "\n",
      "q0 (0) ⮕  ---[ H ]---[ ☉ ]---[ R ]---\n",
      "q1 (0) ⮕  ---[ I ]---[ ⛒ ]---[ I ]---\n",
      "\n",
      "Compilation complete!\n",
      "\n"
     ]
    }
   ],
   "source": [
    "rps = qprogram(2)\n",
    "\n",
    "rps.addgates(0, [HGATE(), RGATE(pi/3.3)])\n",
    "rps.addgates(1, [IGATE(), CNOTGATE(), IGATE()])\n",
    "\n",
    "c = rps.compile()"
   ]
  },
  {
   "cell_type": "code",
   "execution_count": 5,
   "metadata": {},
   "outputs": [
    {
     "name": "stdout",
     "output_type": "stream",
     "text": [
      "|Ψ00> : 32.5625%, |Ψ01> : 17.90625%, |Ψ10> : 17.78125%, |Ψ11> : 31.75%\n"
     ]
    },
    {
     "data": {
      "image/png": "[encoded data removed]",
      "text/plain": [
       "<Figure size 432x288 with 1 Axes>"
      ]
     },
     "metadata": {
      "needs_background": "light"
     },
     "output_type": "display_data"
    }
   ],
   "source": [
    "rps.run(shots = 3200, graph = True)"
   ]
  },
  {
   "cell_type": "code",
   "execution_count": 6,
   "metadata": {},
   "outputs": [
    {
     "name": "stdout",
     "output_type": "stream",
     "text": [
      "\n",
      "Compiling program...\n",
      "\n",
      "q0 (0) ⮕  ---[ H ]---[ ☉ ]---[ R ]---\n",
      "q1 (0) ⮕  ---[ I ]---[ ⛒ ]---[ I ]---\n",
      "\n",
      "Compilation complete!\n",
      "\n"
     ]
    }
   ],
   "source": [
    "#FINALLY figured out how to make a rock paper scissor algo in quantum;\n",
    "\n",
    "rps = qprogram(2)\n",
    "\n",
    "#this pi/3.3 value was determined by just eyeballing; nothing fancy.\n",
    "#Just kept changing the factor of pi to make 01 and 10 eigenstates' probability add up to the same as 00 or 11 eigenstates.\n",
    "rps.addgates(0, [HGATE(), RGATE(pi/3.3)])\n",
    "rps.addgates(1, [IGATE(), CNOTGATE(), IGATE()])\n",
    "\n",
    "c = rps.compile()"
   ]
  },
  {
   "cell_type": "code",
   "execution_count": 7,
   "metadata": {},
   "outputs": [
    {
     "name": "stdout",
     "output_type": "stream",
     "text": [
      "[1.00 + i0.00, 0.00 + i0.00, 0.00 + i0.00, 0.00 + i0.00]\n",
      "[0.00 + i0.00, 0.00 + i0.00, 0.00 + i0.00, 1.00 + i0.00]\n",
      "[0.00 + i0.00, 0.00 + i0.00, 1.00 + i0.00, 0.00 + i0.00]\n",
      "[0.00 + i0.00, 1.00 + i0.00, 0.00 + i0.00, 0.00 + i0.00]\n"
     ]
    }
   ],
   "source": [
    "print(CNOTGATE(controlindex = 1, targetindex = 0))"
   ]
  },
  {
   "cell_type": "code",
   "execution_count": 10,
   "metadata": {},
   "outputs": [
    {
     "name": "stdout",
     "output_type": "stream",
     "text": [
      "\n",
      "Compiling program...\n",
      "\n",
      "q0 (0) ⮕  ---[ ⛒ ]---[ ⛒ ]---[ ☉ ]---\n",
      "q1 (0) ⮕  ---[ ☉ ]---[ ☉ ]---[ ⛒ ]---\n",
      "\n",
      "Compilation complete!\n",
      "\n"
     ]
    },
    {
     "data": {
      "text/plain": [
       "\n",
       "q0 (0) ⮕  ---[ ⛒ ]---[ ⛒ ]---[ ☉ ]---\n",
       "q1 (0) ⮕  ---[ ☉ ]---[ ☉ ]---[ ⛒ ]---"
      ]
     },
     "execution_count": 10,
     "metadata": {},
     "output_type": "execute_result"
    }
   ],
   "source": [
    "swapper = qprogram(2)\n",
    "\n",
    "swapper.addgates(0, [FLIPPEDCNOTGATE(), FLIPPEDCNOTGATE()])\n",
    "swapper.addgates(1, [CNOTGATE()])\n",
    "# swapper.addgates(2, [])\n",
    "\n",
    "swapper.compile()"
   ]
  }
 ],
 "metadata": {
  "kernelspec": {
   "display_name": "Python 3.10.4 64-bit",
   "language": "python",
   "name": "python3"
  },
  "language_info": {
   "codemirror_mode": {
    "name": "ipython",
    "version": 3
   },
   "file_extension": ".py",
   "mimetype": "text/x-python",
   "name": "python",
   "nbconvert_exporter": "python",
   "pygments_lexer": "ipython3",
   "version": "3.10.4"
  },
  "orig_nbformat": 4,
  "vscode": {
   "interpreter": {
    "hash": "6997914c14c4aadcdc9dcb0a1d359e84e268d6c41c2093c091ed955dfffa89fa"
   }
  }
 },
 "nbformat": 4,
 "nbformat_minor": 2
}
