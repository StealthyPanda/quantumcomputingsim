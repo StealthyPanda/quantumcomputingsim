{
 "cells": [
  {
   "cell_type": "code",
   "execution_count": 14,
   "metadata": {},
   "outputs": [],
   "source": [
    "from quantum import *"
   ]
  },
  {
   "cell_type": "code",
   "execution_count": 16,
   "metadata": {},
   "outputs": [
    {
     "name": "stdout",
     "output_type": "stream",
     "text": [
      "\n",
      "Compiling program...\n",
      "\n",
      "q0 (0) ⮕  ---[ H ]---[ I ]---[ I ]---[ I ]---[ I ]---\n",
      "q1 (0) ⮕  ---[ I ]---[ ⦿ ]---[ I ]---[ I ]---[ I ]---\n",
      "q2 (0) ⮕  ---[ I ]---[ I ]---[ ⦿ ]---[ I ]---[ I ]---\n",
      "q3 (0) ⮕  ---[ I ]---[ I ]---[ I ]---[ ⦿ ]---[ I ]---\n",
      "q4 (0) ⮕  ---[ I ]---[ I ]---[ I ]---[ I ]---[ ⦿ ]---\n",
      "\n",
      "Compilation complete!\n",
      "\n"
     ]
    },
    {
     "data": {
      "text/plain": [
       "\n",
       "q0 (0) ⮕  ---[ H ]---[ I ]---[ I ]---[ I ]---[ I ]---\n",
       "q1 (0) ⮕  ---[ I ]---[ ⦿ ]---[ I ]---[ I ]---[ I ]---\n",
       "q2 (0) ⮕  ---[ I ]---[ I ]---[ ⦿ ]---[ I ]---[ I ]---\n",
       "q3 (0) ⮕  ---[ I ]---[ I ]---[ I ]---[ ⦿ ]---[ I ]---\n",
       "q4 (0) ⮕  ---[ I ]---[ I ]---[ I ]---[ I ]---[ ⦿ ]---"
      ]
     },
     "execution_count": 16,
     "metadata": {},
     "output_type": "execute_result"
    }
   ],
   "source": [
    "nqbits = 5\n",
    "\n",
    "q = qprogram(nqbits)\n",
    "\n",
    "q.addgates(0, [HGATE()])\n",
    "\n",
    "for each in range(1, nqbits):\n",
    "    for i in range(each):\n",
    "        q.addgates(each, [IGATE()])\n",
    "    q.addgates(each, [CNOTGATE()])\n",
    "\n",
    "q.compile()"
   ]
  },
  {
   "cell_type": "code",
   "execution_count": 18,
   "metadata": {},
   "outputs": [
    {
     "name": "stdout",
     "output_type": "stream",
     "text": [
      "Using cache...\n",
      "|Ψ00000> : 49.875%, |Ψ00001> : 0.0%, |Ψ00010> : 0.0%, |Ψ00011> : 0.0%, |Ψ00100> : 0.0%, |Ψ00101> : 0.0%, |Ψ00110> : 0.0%, |Ψ00111> : 0.0%, |Ψ01000> : 0.0%, |Ψ01001> : 0.0%, |Ψ01010> : 0.0%, |Ψ01011> : 0.0%, |Ψ01100> : 0.0%, |Ψ01101> : 0.0%, |Ψ01110> : 0.0%, |Ψ01111> : 0.0%, |Ψ10000> : 0.0%, |Ψ10001> : 0.0%, |Ψ10010> : 0.0%, |Ψ10011> : 0.0%, |Ψ10100> : 0.0%, |Ψ10101> : 0.0%, |Ψ10110> : 0.0%, |Ψ10111> : 0.0%, |Ψ11000> : 0.0%, |Ψ11001> : 0.0%, |Ψ11010> : 0.0%, |Ψ11011> : 0.0%, |Ψ11100> : 0.0%, |Ψ11101> : 0.0%, |Ψ11110> : 0.0%, |Ψ11111> : 50.125%\n",
      "\n",
      "Ψ00000 ████████████████████████ 49.875%\n",
      "Ψ00001 \n",
      "Ψ00010 \n",
      "Ψ00011 \n",
      "Ψ00100 \n",
      "Ψ00101 \n",
      "Ψ00110 \n",
      "Ψ00111 \n",
      "Ψ01000 \n",
      "Ψ01001 \n",
      "Ψ01010 \n",
      "Ψ01011 \n",
      "Ψ01100 \n",
      "Ψ01101 \n",
      "Ψ01110 \n",
      "Ψ01111 \n",
      "Ψ10000 \n",
      "Ψ10001 \n",
      "Ψ10010 \n",
      "Ψ10011 \n",
      "Ψ10100 \n",
      "Ψ10101 \n",
      "Ψ10110 \n",
      "Ψ10111 \n",
      "Ψ11000 \n",
      "Ψ11001 \n",
      "Ψ11010 \n",
      "Ψ11011 \n",
      "Ψ11100 \n",
      "Ψ11101 \n",
      "Ψ11110 \n",
      "Ψ11111 █████████████████████████ 50.125%\n",
      "\n"
     ]
    }
   ],
   "source": [
    "q.run(graph=True, terminal=True)"
   ]
  }
 ],
 "metadata": {
  "interpreter": {
   "hash": "369f2c481f4da34e4445cda3fffd2e751bd1c4d706f27375911949ba6bb62e1c"
  },
  "kernelspec": {
   "display_name": "Python 3.10.2 64-bit",
   "language": "python",
   "name": "python3"
  },
  "language_info": {
   "codemirror_mode": {
    "name": "ipython",
    "version": 3
   },
   "file_extension": ".py",
   "mimetype": "text/x-python",
   "name": "python",
   "nbconvert_exporter": "python",
   "pygments_lexer": "ipython3",
   "version": "3.10.2"
  },
  "orig_nbformat": 4
 },
 "nbformat": 4,
 "nbformat_minor": 2
}
