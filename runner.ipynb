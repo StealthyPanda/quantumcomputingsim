{
 "cells": [
  {
   "cell_type": "code",
   "execution_count": 13,
   "metadata": {},
   "outputs": [],
   "source": [
    "from quantum import *"
   ]
  },
  {
   "cell_type": "code",
   "execution_count": 14,
   "metadata": {},
   "outputs": [
    {
     "name": "stdout",
     "output_type": "stream",
     "text": [
      "\n",
      "Compiling program...\n",
      "\n",
      "q0 (0) ⮕  ---[ I ]---[ I ]---[ I ]---[ H ]---\n",
      "q1 (0) ⮕  ---[ ⦿ ]---[ H ]---[ I ]---[ I ]---\n",
      "q2 (0) ⮕  ---[ H ]---[ I ]---[ X ]---[ H ]---\n",
      "q3 (0) ⮕  ---[ H ]---[ ⦿ ]---[ I ]---[ I ]---\n",
      "\n",
      "Compilation complete!\n",
      "\n"
     ]
    },
    {
     "data": {
      "text/plain": [
       "\n",
       "q0 (0) ⮕  ---[ I ]---[ I ]---[ I ]---[ H ]---\n",
       "q1 (0) ⮕  ---[ ⦿ ]---[ H ]---[ I ]---[ I ]---\n",
       "q2 (0) ⮕  ---[ H ]---[ I ]---[ X ]---[ H ]---\n",
       "q3 (0) ⮕  ---[ H ]---[ ⦿ ]---[ I ]---[ I ]---"
      ]
     },
     "execution_count": 14,
     "metadata": {},
     "output_type": "execute_result"
    }
   ],
   "source": [
    "import random\n",
    "\n",
    "nq = 4\n",
    "\n",
    "test = qprogram(nq)\n",
    "\n",
    "gates = [HGATE(), IGATE(), CNOTGATE(), NGATE()]\n",
    "for each in range(nq * 3):\n",
    "    each = each % nq\n",
    "    random.shuffle(gates)\n",
    "    if each == 0:\n",
    "        if gates[0] == CNOTGATE():\n",
    "            test.addgates(each, [gates[1]])\n",
    "            continue\n",
    "        else:\n",
    "            test.addgates(each, [gates[0]])\n",
    "    else:\n",
    "        test.addgates(each, [gates[0]])\n",
    "\n",
    "test.compile()"
   ]
  },
  {
   "cell_type": "code",
   "execution_count": null,
   "metadata": {},
   "outputs": [],
   "source": []
  },
  {
   "cell_type": "code",
   "execution_count": 15,
   "metadata": {},
   "outputs": [
    {
     "name": "stdout",
     "output_type": "stream",
     "text": [
      "|Ψ0000> : 11.8125%, |Ψ0001> : 12.3125%, |Ψ0010> : 0.0%, |Ψ0011> : 0.0%, |Ψ0100> : 12.75%, |Ψ0101> : 11.5625%, |Ψ0110> : 0.0%, |Ψ0111> : 0.0%, |Ψ1000> : 12.5%, |Ψ1001> : 14.6875%, |Ψ1010> : 0.0%, |Ψ1011> : 0.0%, |Ψ1100> : 12.25%, |Ψ1101> : 12.125%, |Ψ1110> : 0.0%, |Ψ1111> : 0.0%\n",
      "\n",
      "Ψ0000 █████ 11.8125%\n",
      "Ψ0001 ██████ 12.3125%\n",
      "Ψ0010 \n",
      "Ψ0011 \n",
      "Ψ0100 ██████ 12.75%\n",
      "Ψ0101 █████ 11.5625%\n",
      "Ψ0110 \n",
      "Ψ0111 \n",
      "Ψ1000 ██████ 12.5%\n",
      "Ψ1001 ███████ 14.6875%\n",
      "Ψ1010 \n",
      "Ψ1011 \n",
      "Ψ1100 ██████ 12.25%\n",
      "Ψ1101 ██████ 12.125%\n",
      "Ψ1110 \n",
      "Ψ1111 \n",
      "\n"
     ]
    }
   ],
   "source": [
    "test.run(graph=True)"
   ]
  },
  {
   "cell_type": "code",
   "execution_count": 16,
   "metadata": {},
   "outputs": [
    {
     "name": "stdout",
     "output_type": "stream",
     "text": [
      "\n",
      "Compiling program...\n",
      "\n",
      "q0 (0) ⮕  ---[ H ]---\n",
      "q1 (0) ⮕  ---[ H ]---\n",
      "q2 (0) ⮕  ---[ H ]---\n",
      "q3 (0) ⮕  ---[ H ]---\n",
      "q4 (0) ⮕  ---[ H ]---\n",
      "q5 (0) ⮕  ---[ H ]---\n",
      "q6 (0) ⮕  ---[ H ]---\n",
      "q7 (0) ⮕  ---[ H ]---\n",
      "\n",
      "Compilation complete!\n",
      "\n"
     ]
    },
    {
     "data": {
      "text/plain": [
       "\n",
       "q0 (0) ⮕  ---[ H ]---\n",
       "q1 (0) ⮕  ---[ H ]---\n",
       "q2 (0) ⮕  ---[ H ]---\n",
       "q3 (0) ⮕  ---[ H ]---\n",
       "q4 (0) ⮕  ---[ H ]---\n",
       "q5 (0) ⮕  ---[ H ]---\n",
       "q6 (0) ⮕  ---[ H ]---\n",
       "q7 (0) ⮕  ---[ H ]---"
      ]
     },
     "execution_count": 16,
     "metadata": {},
     "output_type": "execute_result"
    }
   ],
   "source": [
    "nq = 8\n",
    "rockpaperscissors = qprogram(nq)\n",
    "\n",
    "for each in range(nq):\n",
    "    rockpaperscissors.addgates(each, [HGATE()])\n",
    "\n",
    "rockpaperscissors.compile()"
   ]
  }
 ],
 "metadata": {
  "interpreter": {
   "hash": "a04cc9b982c00207d935112a9aea877df2146390ddfcb1d2e5f26cb1ec0ee25e"
  },
  "kernelspec": {
   "display_name": "Python 3.10.4 64-bit",
   "language": "python",
   "name": "python3"
  },
  "language_info": {
   "codemirror_mode": {
    "name": "ipython",
    "version": 3
   },
   "file_extension": ".py",
   "mimetype": "text/x-python",
   "name": "python",
   "nbconvert_exporter": "python",
   "pygments_lexer": "ipython3",
   "version": "3.10.2"
  },
  "orig_nbformat": 4
 },
 "nbformat": 4,
 "nbformat_minor": 2
}
