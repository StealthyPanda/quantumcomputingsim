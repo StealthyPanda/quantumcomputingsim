{
 "cells": [
  {
   "cell_type": "code",
   "execution_count": 1,
   "metadata": {},
   "outputs": [],
   "source": [
    "from quantum import *"
   ]
  },
  {
   "cell_type": "code",
   "execution_count": 2,
   "metadata": {},
   "outputs": [
    {
     "name": "stdout",
     "output_type": "stream",
     "text": [
      "\n",
      "Compiling program...\n",
      "\n",
      "q0 (0) ⮕  ---[ X ]---[ I ]---[ X ]---[ H ]---\n",
      "q1 (0) ⮕  ---[ X ]---[ ⦿ ]---[ X ]---[ I ]---\n",
      "q2 (0) ⮕  ---[ H ]---[ H ]---[ I ]---[ I ]---\n",
      "q3 (0) ⮕  ---[ X ]---[ X ]---[ X ]---[ I ]---\n",
      "\n",
      "Compilation complete!\n",
      "\n"
     ]
    },
    {
     "data": {
      "text/plain": [
       "\n",
       "q0 (0) ⮕  ---[ X ]---[ I ]---[ X ]---[ H ]---\n",
       "q1 (0) ⮕  ---[ X ]---[ ⦿ ]---[ X ]---[ I ]---\n",
       "q2 (0) ⮕  ---[ H ]---[ H ]---[ I ]---[ I ]---\n",
       "q3 (0) ⮕  ---[ X ]---[ X ]---[ X ]---[ I ]---"
      ]
     },
     "execution_count": 2,
     "metadata": {},
     "output_type": "execute_result"
    }
   ],
   "source": [
    "import random\n",
    "\n",
    "nq = 4\n",
    "\n",
    "test = qprogram(nq)\n",
    "\n",
    "gates = [HGATE(), IGATE(), CNOTGATE(), NGATE()]\n",
    "for each in range(nq * 3):\n",
    "    each = each % nq\n",
    "    random.shuffle(gates)\n",
    "    if each == 0:\n",
    "        if gates[0] == CNOTGATE():\n",
    "            test.addgates(each, [gates[1]])\n",
    "            continue\n",
    "        else:\n",
    "            test.addgates(each, [gates[0]])\n",
    "    else:\n",
    "        test.addgates(each, [gates[0]])\n",
    "\n",
    "test.compile()"
   ]
  },
  {
   "cell_type": "code",
   "execution_count": 3,
   "metadata": {},
   "outputs": [
    {
     "name": "stdout",
     "output_type": "stream",
     "text": [
      "|Ψ0000> : 0.0%, |Ψ0001> : 0.0%, |Ψ0010> : 0.0%, |Ψ0011> : 0.0%, |Ψ0100> : 0.0%, |Ψ0101> : 49.6875%, |Ψ0110> : 0.0%, |Ψ0111> : 0.0%, |Ψ1000> : 0.0%, |Ψ1001> : 0.0%, |Ψ1010> : 0.0%, |Ψ1011> : 0.0%, |Ψ1100> : 0.0%, |Ψ1101> : 50.31250000000001%, |Ψ1110> : 0.0%, |Ψ1111> : 0.0%\n"
     ]
    },
    {
     "data": {
      "image/png": "[encoded data removed]",
      "text/plain": [
       "<Figure size 432x288 with 1 Axes>"
      ]
     },
     "metadata": {
      "needs_background": "light"
     },
     "output_type": "display_data"
    }
   ],
   "source": [
    "test.run(graph=True)"
   ]
  },
  {
   "cell_type": "code",
   "execution_count": null,
   "metadata": {},
   "outputs": [],
   "source": [
    "rockpaperscissors = qprogram(2)\n",
    "\n",
    "rockpaperscissors.addgates(0, [])\n",
    "rockpaperscissors.addgates(1, [])\n",
    "\n",
    "rockpaperscissors.compile()"
   ]
  }
 ],
 "metadata": {
  "interpreter": {
   "hash": "a04cc9b982c00207d935112a9aea877df2146390ddfcb1d2e5f26cb1ec0ee25e"
  },
  "kernelspec": {
   "display_name": "Python 3.10.4 64-bit",
   "language": "python",
   "name": "python3"
  },
  "language_info": {
   "codemirror_mode": {
    "name": "ipython",
    "version": 3
   },
   "file_extension": ".py",
   "mimetype": "text/x-python",
   "name": "python",
   "nbconvert_exporter": "python",
   "pygments_lexer": "ipython3",
   "version": "3.10.4"
  },
  "orig_nbformat": 4
 },
 "nbformat": 4,
 "nbformat_minor": 2
}
