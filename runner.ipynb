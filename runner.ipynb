{
 "cells": [
  {
   "cell_type": "code",
   "execution_count": 1,
   "metadata": {},
   "outputs": [],
   "source": [
    "from quantum import *"
   ]
  },
  {
   "cell_type": "code",
   "execution_count": 6,
   "metadata": {},
   "outputs": [],
   "source": [
    "circuit = qprogram(3)"
   ]
  },
  {
   "cell_type": "code",
   "execution_count": 7,
   "metadata": {},
   "outputs": [
    {
     "name": "stdout",
     "output_type": "stream",
     "text": [
      "|Ψ000> : 100.0%, |Ψ001> : 0.0%, |Ψ010> : 0.0%, |Ψ011> : 0.0%, |Ψ100> : 0.0%, |Ψ101> : 0.0%, |Ψ110> : 0.0%, |Ψ111> : 0.0%\n"
     ]
    },
    {
     "data": {
      "image/png": "[encoded data removed]",
      "text/plain": [
       "<Figure size 432x288 with 1 Axes>"
      ]
     },
     "metadata": {
      "needs_background": "light"
     },
     "output_type": "display_data"
    }
   ],
   "source": [
    "circuit.run(graph=True, terminal=False)"
   ]
  },
  {
   "cell_type": "code",
   "execution_count": 25,
   "metadata": {},
   "outputs": [
    {
     "name": "stdout",
     "output_type": "stream",
     "text": [
      "[0.00 + i0.00, 0.71 + i0.00, 0.71 + i0.00, 0.00 + i0.00]\n",
      "[0.00 + i0.71, 0.00 + i0.00, 0.00 + i0.00, 0.71 + i0.00]\n",
      "[0.71 + i0.00, 0.00 + i0.00, 0.00 + i0.00, 0.00 + i0.71]\n",
      "[0.00 + i0.00, 0.71 + i0.00, -0.71 + i0.00, 0.00 + i0.00]\n",
      "\n",
      "[0.00 + i0.00, 0.00 + i0.71, 0.71 + i0.00, 0.00 + i0.00]\n"
     ]
    }
   ],
   "source": [
    "unitary = Matrix(4, 4)\n",
    "unitary = unitary * 0\n",
    "unitary.rows[0][1] = comp( pow(2, -0.5), 0)\n",
    "unitary.rows[0][2] = comp( pow(2, -0.5), 0)\n",
    "unitary.rows[3][1] = comp( pow(2, -0.5), 0)\n",
    "unitary.rows[3][2] = comp( -pow(2, -0.5), 0)\n",
    "unitary.rows[1][0] = comp( 0, pow(2, -0.5))\n",
    "unitary.rows[1][3] = comp( pow(2, -0.5), 0)\n",
    "unitary.rows[2][0] = comp( pow(2, -0.5), 0)\n",
    "unitary.rows[2][3] = comp( 0, pow(2, -0.5))\n",
    "# print(unitary)\n",
    "\n",
    "vect = [1, 0, 0, 0]\n",
    "\n",
    "print(unitary)\n",
    "print()\n",
    "print((unitary ** vect))"
   ]
  },
  {
   "cell_type": "code",
   "execution_count": 27,
   "metadata": {},
   "outputs": [
    {
     "name": "stdout",
     "output_type": "stream",
     "text": [
      "[1.00 + i0.00, 1.00 + i0.00, 1.00 + i0.00, 1.00 + i0.00, 1.00 + i0.00, 1.00 + i0.00, 1.00 + i0.00, 1.00 + i0.00]\n",
      "[1.00 + i0.00, 1.00 + i0.00, 1.00 + i0.00, 1.00 + i0.00, 1.00 + i0.00, 1.00 + i0.00, 1.00 + i0.00, 1.00 + i0.00]\n",
      "[1.00 + i0.00, 1.00 + i0.00, 1.00 + i0.00, 1.00 + i0.00, 1.00 + i0.00, 1.00 + i0.00, 1.00 + i0.00, 1.00 + i0.00]\n",
      "[1.00 + i0.00, 1.00 + i0.00, 1.00 + i0.00, 1.00 + i0.00, 1.00 + i0.00, 1.00 + i0.00, 1.00 + i0.00, 1.00 + i0.00]\n"
     ]
    }
   ],
   "source": [
    "adder = Matrix(4, 8)\n",
    "# adder = adder * 0\n",
    "print(adder)"
   ]
  }
 ],
 "metadata": {
  "kernelspec": {
   "display_name": "Python 3.10.4 64-bit",
   "language": "python",
   "name": "python3"
  },
  "language_info": {
   "codemirror_mode": {
    "name": "ipython",
    "version": 3
   },
   "file_extension": ".py",
   "mimetype": "text/x-python",
   "name": "python",
   "nbconvert_exporter": "python",
   "pygments_lexer": "ipython3",
   "version": "3.10.6"
  },
  "orig_nbformat": 4,
  "vscode": {
   "interpreter": {
    "hash": "36e14c9e1cb80b7a58229a4cedc7e1c8b89be16b99cace3d6c4a4df49851e531"
   }
  }
 },
 "nbformat": 4,
 "nbformat_minor": 2
}
