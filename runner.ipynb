{
 "cells": [
  {
   "cell_type": "code",
   "execution_count": 1,
   "metadata": {},
   "outputs": [],
   "source": [
    "from quantum import *"
   ]
  },
  {
   "cell_type": "code",
   "execution_count": 2,
   "metadata": {},
   "outputs": [
    {
     "name": "stdout",
     "output_type": "stream",
     "text": [
      "\n",
      "Compiling program...\n",
      "\n",
      "q0 (0) ⮕  ---[ H ]---[ I ]---[ H ]---\n",
      "q1 (0) ⮕  ---[ I ]---[ ⦿ ]---[ I ]---\n",
      "q2 (0) ⮕  ---[ I ]---[ I ]---[ ⦿ ]---\n",
      "\n",
      "Compilation complete!\n",
      "\n"
     ]
    },
    {
     "data": {
      "text/plain": [
       "\n",
       "q0 (0) ⮕  ---[ H ]---[ I ]---[ H ]---\n",
       "q1 (0) ⮕  ---[ I ]---[ ⦿ ]---[ I ]---\n",
       "q2 (0) ⮕  ---[ I ]---[ I ]---[ ⦿ ]---"
      ]
     },
     "execution_count": 2,
     "metadata": {},
     "output_type": "execute_result"
    }
   ],
   "source": [
    "nqbits = 3\n",
    "\n",
    "q = qprogram(nqbits)\n",
    "\n",
    "q.addgates(0, [HGATE()])\n",
    "\n",
    "for each in range(1, nqbits):\n",
    "    for i in range(each):\n",
    "        q.addgates(each, [IGATE()])\n",
    "    q.addgates(each, [CNOTGATE()])\n",
    "\n",
    "q.addgates(0, [HGATE()])\n",
    "q.compile()"
   ]
  },
  {
   "cell_type": "code",
   "execution_count": 3,
   "metadata": {},
   "outputs": [
    {
     "name": "stdout",
     "output_type": "stream",
     "text": [
      "|Ψ000> : 25.3125%, |Ψ001> : 0.0%, |Ψ010> : 0.0%, |Ψ011> : 24.1875%, |Ψ100> : 25.1875%, |Ψ101> : 0.0%, |Ψ110> : 0.0%, |Ψ111> : 25.3125%\n"
     ]
    },
    {
     "data": {
      "image/png": "[encoded data removed]",
      "text/plain": [
       "<Figure size 432x288 with 1 Axes>"
      ]
     },
     "metadata": {
      "needs_background": "light"
     },
     "output_type": "display_data"
    }
   ],
   "source": [
    "q.run(graph=True, terminal=False)"
   ]
  },
  {
   "cell_type": "code",
   "execution_count": 9,
   "metadata": {},
   "outputs": [
    {
     "name": "stdout",
     "output_type": "stream",
     "text": [
      "[0.00 + i0.00, 0.71 + i0.00, 0.71 + i0.00, 0.00 + i0.00]\n",
      "[0.71 + i0.00, 0.00 + i0.00, 0.00 + i0.00, 0.71 + i0.00]\n",
      "[0.71 + i0.00, 0.00 + i0.00, 0.00 + i0.00, 0.71 + i0.00]\n",
      "[0.00 + i0.00, 0.71 + i0.00, 0.71 + i0.00, 0.00 + i0.00]\n"
     ]
    },
    {
     "ename": "AttributeError",
     "evalue": "'Matrix' object has no attribute 'a'",
     "output_type": "error",
     "traceback": [
      "\u001b[1;31m---------------------------------------------------------------------------\u001b[0m",
      "\u001b[1;31mTypeError\u001b[0m                                 Traceback (most recent call last)",
      "File \u001b[1;32mc:\\Users\\StealthyPanda\\Desktop\\repos\\quantumcomputingsim\\quantum.py:61\u001b[0m, in \u001b[0;36mcomp.__mul__\u001b[1;34m(self, real)\u001b[0m\n\u001b[0;32m     60\u001b[0m \u001b[39mtry\u001b[39;00m:\n\u001b[1;32m---> 61\u001b[0m     \u001b[39mreturn\u001b[39;00m comp(\u001b[39mself\u001b[39;49m\u001b[39m.\u001b[39;49ma \u001b[39m*\u001b[39;49m real, \u001b[39mself\u001b[39m\u001b[39m.\u001b[39mb \u001b[39m*\u001b[39m real)\n\u001b[0;32m     62\u001b[0m \u001b[39mexcept\u001b[39;00m \u001b[39mTypeError\u001b[39;00m:\n",
      "\u001b[1;31mTypeError\u001b[0m: unsupported operand type(s) for *: 'int' and 'Matrix'",
      "\nDuring handling of the above exception, another exception occurred:\n",
      "\u001b[1;31mAttributeError\u001b[0m                            Traceback (most recent call last)",
      "\u001b[1;32mc:\\Users\\StealthyPanda\\Desktop\\repos\\quantumcomputingsim\\runner.ipynb Cell 4'\u001b[0m in \u001b[0;36m<cell line: 17>\u001b[1;34m()\u001b[0m\n\u001b[0;32m     <a href='vscode-notebook-cell:/c%3A/Users/StealthyPanda/Desktop/repos/quantumcomputingsim/runner.ipynb#ch0000003?line=13'>14</a>\u001b[0m vect \u001b[39m=\u001b[39m vect \u001b[39m*\u001b[39m \u001b[39m0\u001b[39m\n\u001b[0;32m     <a href='vscode-notebook-cell:/c%3A/Users/StealthyPanda/Desktop/repos/quantumcomputingsim/runner.ipynb#ch0000003?line=14'>15</a>\u001b[0m vect\u001b[39m.\u001b[39mrows[\u001b[39m0\u001b[39m] \u001b[39m=\u001b[39m \u001b[39m1\u001b[39m\n\u001b[1;32m---> <a href='vscode-notebook-cell:/c%3A/Users/StealthyPanda/Desktop/repos/quantumcomputingsim/runner.ipynb#ch0000003?line=16'>17</a>\u001b[0m \u001b[39mprint\u001b[39m(unitary \u001b[39m*\u001b[39;49m vect)\n",
      "File \u001b[1;32mc:\\Users\\StealthyPanda\\Desktop\\repos\\quantumcomputingsim\\quantum.py:97\u001b[0m, in \u001b[0;36mMatrix.__mul__\u001b[1;34m(self, scalar)\u001b[0m\n\u001b[0;32m     95\u001b[0m \u001b[39mfor\u001b[39;00m each \u001b[39min\u001b[39;00m \u001b[39mrange\u001b[39m(\u001b[39mself\u001b[39m\u001b[39m.\u001b[39mnrows):\n\u001b[0;32m     96\u001b[0m     \u001b[39mfor\u001b[39;00m i \u001b[39min\u001b[39;00m \u001b[39mrange\u001b[39m(\u001b[39mself\u001b[39m\u001b[39m.\u001b[39mncols):\n\u001b[1;32m---> 97\u001b[0m         prod\u001b[39m.\u001b[39mrows[each][i]  \u001b[39m=\u001b[39m \u001b[39mself\u001b[39;49m\u001b[39m.\u001b[39;49mrows[each][i] \u001b[39m*\u001b[39;49m scalar\n\u001b[0;32m     98\u001b[0m \u001b[39mreturn\u001b[39;00m prod\n",
      "File \u001b[1;32mc:\\Users\\StealthyPanda\\Desktop\\repos\\quantumcomputingsim\\quantum.py:63\u001b[0m, in \u001b[0;36mcomp.__mul__\u001b[1;34m(self, real)\u001b[0m\n\u001b[0;32m     61\u001b[0m     \u001b[39mreturn\u001b[39;00m comp(\u001b[39mself\u001b[39m\u001b[39m.\u001b[39ma \u001b[39m*\u001b[39m real, \u001b[39mself\u001b[39m\u001b[39m.\u001b[39mb \u001b[39m*\u001b[39m real)\n\u001b[0;32m     62\u001b[0m \u001b[39mexcept\u001b[39;00m \u001b[39mTypeError\u001b[39;00m:\n\u001b[1;32m---> 63\u001b[0m     \u001b[39mreturn\u001b[39;00m \u001b[39mself\u001b[39;49m\u001b[39m.\u001b[39;49mhack(real)\n",
      "File \u001b[1;32mc:\\Users\\StealthyPanda\\Desktop\\repos\\quantumcomputingsim\\quantum.py:57\u001b[0m, in \u001b[0;36mcomp.hack\u001b[1;34m(self, other)\u001b[0m\n\u001b[0;32m     56\u001b[0m \u001b[39mdef\u001b[39;00m \u001b[39mhack\u001b[39m(\u001b[39mself\u001b[39m, other):\n\u001b[1;32m---> 57\u001b[0m     \u001b[39mreturn\u001b[39;00m comp((\u001b[39mself\u001b[39m\u001b[39m.\u001b[39ma \u001b[39m*\u001b[39m other\u001b[39m.\u001b[39;49ma) \u001b[39m-\u001b[39m (\u001b[39mself\u001b[39m\u001b[39m.\u001b[39mb \u001b[39m*\u001b[39m other\u001b[39m.\u001b[39mb), (\u001b[39mself\u001b[39m\u001b[39m.\u001b[39ma \u001b[39m*\u001b[39m other\u001b[39m.\u001b[39mb) \u001b[39m+\u001b[39m (\u001b[39mself\u001b[39m\u001b[39m.\u001b[39mb \u001b[39m*\u001b[39m other\u001b[39m.\u001b[39ma))\n",
      "\u001b[1;31mAttributeError\u001b[0m: 'Matrix' object has no attribute 'a'"
     ]
    }
   ],
   "source": [
    "unitary = Matrix(4, 4)\n",
    "unitary = unitary * 0\n",
    "unitary.rows[0][1] = comp( pow(2, -0.5), 0)\n",
    "unitary.rows[0][2] = comp( pow(2, -0.5), 0)\n",
    "unitary.rows[3][1] = comp( pow(2, -0.5), 0)\n",
    "unitary.rows[3][2] = comp( pow(2, -0.5), 0)\n",
    "unitary.rows[1][0] = comp( pow(2, -0.5), 0)\n",
    "unitary.rows[1][3] = comp( pow(2, -0.5), 0)\n",
    "unitary.rows[2][0] = comp( pow(2, -0.5), 0)\n",
    "unitary.rows[2][3] = comp( pow(2, -0.5), 0)\n",
    "print(unitary)\n",
    "\n",
    "vect = Matrix(4, 1)\n",
    "vect = vect * 0\n",
    "vect.rows[0] = comp(1, 0)\n",
    "\n",
    "print(unitary * vect)"
   ]
  }
 ],
 "metadata": {
  "kernelspec": {
   "display_name": "Python 3.10.4 64-bit",
   "language": "python",
   "name": "python3"
  },
  "language_info": {
   "codemirror_mode": {
    "name": "ipython",
    "version": 3
   },
   "file_extension": ".py",
   "mimetype": "text/x-python",
   "name": "python",
   "nbconvert_exporter": "python",
   "pygments_lexer": "ipython3",
   "version": "3.10.4"
  },
  "orig_nbformat": 4,
  "vscode": {
   "interpreter": {
    "hash": "36e14c9e1cb80b7a58229a4cedc7e1c8b89be16b99cace3d6c4a4df49851e531"
   }
  }
 },
 "nbformat": 4,
 "nbformat_minor": 2
}
