{
 "cells": [
  {
   "cell_type": "code",
   "execution_count": 2,
   "metadata": {},
   "outputs": [],
   "source": [
    "from quantum import *"
   ]
  },
  {
   "cell_type": "code",
   "execution_count": 3,
   "metadata": {},
   "outputs": [
    {
     "name": "stdout",
     "output_type": "stream",
     "text": [
      "\n",
      "Compiling program...\n",
      "\n",
      "q0 (0) ⮕  ---[ H ]---\n",
      "q1 (0) ⮕  ---[ H ]---\n",
      "\n",
      "Compilation complete!\n",
      "\n"
     ]
    },
    {
     "data": {
      "text/plain": [
       "\n",
       "q0 (0) ⮕  ---[ H ]---\n",
       "q1 (0) ⮕  ---[ H ]---"
      ]
     },
     "execution_count": 3,
     "metadata": {},
     "output_type": "execute_result"
    }
   ],
   "source": [
    "q = qprogram(2)\n",
    "\n",
    "q.addgates(0, [HGATE()])\n",
    "q.addgates(1, [HGATE()])\n",
    "\n",
    "q.compile()"
   ]
  },
  {
   "cell_type": "code",
   "execution_count": 4,
   "metadata": {},
   "outputs": [
    {
     "ename": "NameError",
     "evalue": "name 'touseef' is not defined",
     "output_type": "error",
     "traceback": [
      "\u001b[1;31m---------------------------------------------------------------------------\u001b[0m",
      "\u001b[1;31mNameError\u001b[0m                                 Traceback (most recent call last)",
      "\u001b[1;32mc:\\Users\\StealthyPanda\\Desktop\\repos\\quantumcomputingsim\\run2.ipynb Cell 3\u001b[0m in \u001b[0;36m<cell line: 1>\u001b[1;34m()\u001b[0m\n\u001b[1;32m----> <a href='vscode-notebook-cell:/c%3A/Users/StealthyPanda/Desktop/repos/quantumcomputingsim/run2.ipynb#W2sZmlsZQ%3D%3D?line=0'>1</a>\u001b[0m touseef\u001b[39m.\u001b[39mrun(graph\u001b[39m=\u001b[39m\u001b[39mTrue\u001b[39;00m, terminal\u001b[39m=\u001b[39m\u001b[39mTrue\u001b[39;00m)\n",
      "\u001b[1;31mNameError\u001b[0m: name 'touseef' is not defined"
     ]
    }
   ],
   "source": [
    "touseef.run(graph=True, terminal=True)"
   ]
  }
 ],
 "metadata": {
  "kernelspec": {
   "display_name": "Python 3.10.6 64-bit",
   "language": "python",
   "name": "python3"
  },
  "language_info": {
   "codemirror_mode": {
    "name": "ipython",
    "version": 3
   },
   "file_extension": ".py",
   "mimetype": "text/x-python",
   "name": "python",
   "nbconvert_exporter": "python",
   "pygments_lexer": "ipython3",
   "version": "3.10.6"
  },
  "orig_nbformat": 4,
  "vscode": {
   "interpreter": {
    "hash": "36e14c9e1cb80b7a58229a4cedc7e1c8b89be16b99cace3d6c4a4df49851e531"
   }
  }
 },
 "nbformat": 4,
 "nbformat_minor": 2
}
