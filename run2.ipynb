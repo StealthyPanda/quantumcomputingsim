{
 "cells": [
  {
   "cell_type": "code",
   "execution_count": 1,
   "metadata": {},
   "outputs": [],
   "source": [
    "from quantum import *"
   ]
  },
  {
   "cell_type": "code",
   "execution_count": 4,
   "metadata": {},
   "outputs": [
    {
     "name": "stdout",
     "output_type": "stream",
     "text": [
      "\n",
      "Compiling program...\n",
      "\n",
      "q0 (0) ⮕  ---[ I ]---\n",
      "q1 (0) ⮕  ---[ ⦿ ]---\n",
      "\n",
      "Compilation complete!\n",
      "\n"
     ]
    },
    {
     "data": {
      "text/plain": [
       "\n",
       "q0 (0) ⮕  ---[ I ]---\n",
       "q1 (0) ⮕  ---[ ⦿ ]---"
      ]
     },
     "execution_count": 4,
     "metadata": {},
     "output_type": "execute_result"
    }
   ],
   "source": [
    "q = qprogram(2)\n",
    "a = pi/4\n",
    "q.addgates(0, [])\n",
    "q.addgates(1, [CNOTGATE()])\n",
    "\n",
    "q.compile()"
   ]
  },
  {
   "cell_type": "code",
   "execution_count": 5,
   "metadata": {},
   "outputs": [
    {
     "name": "stdout",
     "output_type": "stream",
     "text": [
      "|Ψ00> : 100.0%, |Ψ01> : 0.0%, |Ψ10> : 0.0%, |Ψ11> : 0.0%\n"
     ]
    },
    {
     "data": {
      "image/png": "[encoded data removed]",
      "text/plain": [
       "<Figure size 432x288 with 1 Axes>"
      ]
     },
     "metadata": {
      "needs_background": "light"
     },
     "output_type": "display_data"
    }
   ],
   "source": [
    "q.run(graph = True, terminal=False)"
   ]
  }
 ],
 "metadata": {
  "kernelspec": {
   "display_name": "Python 3.10.6 64-bit",
   "language": "python",
   "name": "python3"
  },
  "language_info": {
   "codemirror_mode": {
    "name": "ipython",
    "version": 3
   },
   "file_extension": ".py",
   "mimetype": "text/x-python",
   "name": "python",
   "nbconvert_exporter": "python",
   "pygments_lexer": "ipython3",
   "version": "3.10.6"
  },
  "orig_nbformat": 4,
  "vscode": {
   "interpreter": {
    "hash": "36e14c9e1cb80b7a58229a4cedc7e1c8b89be16b99cace3d6c4a4df49851e531"
   }
  }
 },
 "nbformat": 4,
 "nbformat_minor": 2
}
