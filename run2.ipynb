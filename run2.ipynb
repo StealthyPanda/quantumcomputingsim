{
 "cells": [
  {
   "cell_type": "code",
   "execution_count": 1,
   "metadata": {},
   "outputs": [],
   "source": [
    "from quantum import *"
   ]
  },
  {
   "cell_type": "code",
   "execution_count": 2,
   "metadata": {},
   "outputs": [
    {
     "name": "stdout",
     "output_type": "stream",
     "text": [
      "\n",
      "Compiling program...\n",
      "\n",
      "q0 (1) ⮕  ---[ ☉ ]---\n",
      "q1 (0) ⮕  ---[ ⛒ ]---\n",
      "q2 (0) ⮕  ---[ I ]---\n",
      "\n",
      "Compilation complete!\n",
      "\n"
     ]
    },
    {
     "data": {
      "text/plain": [
       "\n",
       "q0 (1) ⮕  ---[ ☉ ]---\n",
       "q1 (0) ⮕  ---[ ⛒ ]---\n",
       "q2 (0) ⮕  ---[ I ]---"
      ]
     },
     "execution_count": 2,
     "metadata": {},
     "output_type": "execute_result"
    }
   ],
   "source": [
    "q = qprogram(3, [1, 0, 0])\n",
    "a = pi/6\n",
    "q.addgates(0, [])\n",
    "q.addgates(1, [CNOTGATE()])\n",
    "\n",
    "q.compile()"
   ]
  },
  {
   "cell_type": "code",
   "execution_count": 3,
   "metadata": {},
   "outputs": [
    {
     "name": "stdout",
     "output_type": "stream",
     "text": [
      "|Ψ000> : 0.0%, |Ψ001> : 0.0%, |Ψ010> : 0.0%, |Ψ011> : 0.0%, |Ψ100> : 0.0%, |Ψ101> : 0.0%, |Ψ110> : 100.0%, |Ψ111> : 0.0%\n"
     ]
    },
    {
     "data": {
      "image/png": "[encoded data removed]",
      "text/plain": [
       "<Figure size 432x288 with 1 Axes>"
      ]
     },
     "metadata": {
      "needs_background": "light"
     },
     "output_type": "display_data"
    }
   ],
   "source": [
    "q.run(graph = True, terminal=False, shots= 16000)"
   ]
  }
 ],
 "metadata": {
  "kernelspec": {
   "display_name": "Python 3.10.6 64-bit",
   "language": "python",
   "name": "python3"
  },
  "language_info": {
   "codemirror_mode": {
    "name": "ipython",
    "version": 3
   },
   "file_extension": ".py",
   "mimetype": "text/x-python",
   "name": "python",
   "nbconvert_exporter": "python",
   "pygments_lexer": "ipython3",
   "version": "3.10.6"
  },
  "orig_nbformat": 4,
  "vscode": {
   "interpreter": {
    "hash": "36e14c9e1cb80b7a58229a4cedc7e1c8b89be16b99cace3d6c4a4df49851e531"
   }
  }
 },
 "nbformat": 4,
 "nbformat_minor": 2
}
