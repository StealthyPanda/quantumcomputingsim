{
 "cells": [
  {
   "cell_type": "code",
   "execution_count": 6,
   "metadata": {},
   "outputs": [],
   "source": [
    "from quantum import *\n",
    "from random import randint"
   ]
  },
  {
   "cell_type": "code",
   "execution_count": 17,
   "metadata": {},
   "outputs": [],
   "source": [
    "alpha = pi/3\n",
    "gs = [HGATE(), RGATE(alpha), XGATE(), YGATE(), ZGATE(), CNOTGATE(), NGATE()]"
   ]
  },
  {
   "cell_type": "code",
   "execution_count": 18,
   "metadata": {},
   "outputs": [
    {
     "name": "stdout",
     "output_type": "stream",
     "text": [
      "\n",
      "Compiling program...\n",
      "\n",
      "q0 (0) ⮕  ---[ ☉ ]---[ I ]---[ I ]---[ I ]---\n",
      "q1 (0) ⮕  ---[ ⛒ ]---[ ~ ]---[ ☉ ]---[ H ]---\n",
      "q2 (0) ⮕  ---[ ~ ]---[ X ]---[ ☉ ]---[ ⛒ ]---\n",
      "q3 (0) ⮕  ---[ R ]---[ Y ]---[ ⛒ ]---[ I ]---\n",
      "\n",
      "Compilation complete!\n",
      "\n"
     ]
    },
    {
     "data": {
      "text/plain": [
       "\n",
       "q0 (0) ⮕  ---[ ☉ ]---[ I ]---[ I ]---[ I ]---\n",
       "q1 (0) ⮕  ---[ ⛒ ]---[ ~ ]---[ ☉ ]---[ H ]---\n",
       "q2 (0) ⮕  ---[ ~ ]---[ X ]---[ ☉ ]---[ ⛒ ]---\n",
       "q3 (0) ⮕  ---[ R ]---[ Y ]---[ ⛒ ]---[ I ]---"
      ]
     },
     "execution_count": 18,
     "metadata": {},
     "output_type": "execute_result"
    }
   ],
   "source": [
    "k = 4\n",
    "p = 3\n",
    "q = qprogram(k)\n",
    "\n",
    "q.addgates(0, [])\n",
    "\n",
    "for i in range(1, k):\n",
    "    for x in range(p):\n",
    "        # print(i, x)\n",
    "        q.addgates(i, [gs[randint(0, len(gs) - 1)]])\n",
    "\n",
    "q.compile()"
   ]
  },
  {
   "cell_type": "code",
   "execution_count": 27,
   "metadata": {},
   "outputs": [
    {
     "name": "stdout",
     "output_type": "stream",
     "text": [
      "Using cache...\n",
      "|Ψ0000> : 0.0%, |Ψ0001> : 0.0%, |Ψ0010> : 0.0%, |Ψ0011> : 0.0%, |Ψ0100> : 0.0%, |Ψ0101> : 0.0%, |Ψ0110> : 25.393749999999997%, |Ψ0111> : 74.60625%, |Ψ1000> : 0.0%, |Ψ1001> : 0.0%, |Ψ1010> : 0.0%, |Ψ1011> : 0.0%, |Ψ1100> : 0.0%, |Ψ1101> : 0.0%, |Ψ1110> : 0.0%, |Ψ1111> : 0.0%\n",
      "\n",
      "Ψ0000 \n",
      "Ψ0001 \n",
      "Ψ0010 \n",
      "Ψ0011 \n",
      "Ψ0100 \n",
      "Ψ0101 \n",
      "Ψ0110 ████████████ 25.393749999999997%\n",
      "Ψ0111 █████████████████████████████████████ 74.60625%\n",
      "Ψ1000 \n",
      "Ψ1001 \n",
      "Ψ1010 \n",
      "Ψ1011 \n",
      "Ψ1100 \n",
      "Ψ1101 \n",
      "Ψ1110 \n",
      "Ψ1111 \n",
      "\n"
     ]
    }
   ],
   "source": [
    "q.run(graph = True, terminal=True, shots= 16000)"
   ]
  },
  {
   "cell_type": "code",
   "execution_count": 55,
   "metadata": {},
   "outputs": [
    {
     "name": "stdout",
     "output_type": "stream",
     "text": [
      "\n",
      "Compiling program...\n",
      "\n",
      "q0 (0) ⮕  ---[ R ]---\n",
      "q1 (0) ⮕  ---[ R ]---\n",
      "\n",
      "Compilation complete!\n",
      "\n",
      "|Ψ00> : 11.88125%, |Ψ01> : 22.85625%, |Ψ10> : 22.9875%, |Ψ11> : 42.275%\n"
     ]
    },
    {
     "data": {
      "image/png": "[encoded data removed]",
      "text/plain": [
       "<Figure size 432x288 with 1 Axes>"
      ]
     },
     "metadata": {
      "needs_background": "light"
     },
     "output_type": "display_data"
    }
   ],
   "source": [
    "sps = qprogram(2)\n",
    "alpha = pi/5\n",
    "sps.addgates(0, [RGATE(alpha)])\n",
    "sps.addgates(1, [RGATE(alpha)])\n",
    "\n",
    "sps.compile()\n",
    "sps.run(graph=True, shots=16000)"
   ]
  },
  {
   "cell_type": "code",
   "execution_count": 49,
   "metadata": {},
   "outputs": [
    {
     "name": "stdout",
     "output_type": "stream",
     "text": [
      "|Ψ00> : 56.04375%, |Ψ01> : 19.04375%, |Ψ10> : 18.55625%, |Ψ11> : 6.356249999999999%\n"
     ]
    },
    {
     "data": {
      "image/png": "[encoded data removed]",
      "text/plain": [
       "<Figure size 432x288 with 1 Axes>"
      ]
     },
     "metadata": {
      "needs_background": "light"
     },
     "output_type": "display_data"
    }
   ],
   "source": []
  }
 ],
 "metadata": {
  "kernelspec": {
   "display_name": "Python 3.10.6 64-bit",
   "language": "python",
   "name": "python3"
  },
  "language_info": {
   "codemirror_mode": {
    "name": "ipython",
    "version": 3
   },
   "file_extension": ".py",
   "mimetype": "text/x-python",
   "name": "python",
   "nbconvert_exporter": "python",
   "pygments_lexer": "ipython3",
   "version": "3.10.6"
  },
  "orig_nbformat": 4,
  "vscode": {
   "interpreter": {
    "hash": "36e14c9e1cb80b7a58229a4cedc7e1c8b89be16b99cace3d6c4a4df49851e531"
   }
  }
 },
 "nbformat": 4,
 "nbformat_minor": 2
}
