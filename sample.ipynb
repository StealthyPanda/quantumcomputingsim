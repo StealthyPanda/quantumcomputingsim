{
 "cells": [
  {
   "attachments": {},
   "cell_type": "markdown",
   "metadata": {},
   "source": [
    "Quantum.py is a completely self contained library.\n",
    "\n",
    "Optionally, if matplotlib is installed, it can be used for plotting graphs, else graphs can also be rendered in the terminal."
   ]
  },
  {
   "cell_type": "code",
   "execution_count": 1,
   "metadata": {},
   "outputs": [],
   "source": [
    "from quantum import *"
   ]
  },
  {
   "attachments": {},
   "cell_type": "markdown",
   "metadata": {},
   "source": [
    "This library simulates the quantum gates model of quantum computing.\n",
    "\n",
    "Qubits are simply List[int || comp] of length 2, where the values represents the qubit as a vector of basis [ |0> , |1> ].\n",
    "\n",
    "States of the system are also List[int || comp] of length 2^n for some natural number n.\n",
    "The values are again a vector representation of basis [ |0> , |1> , |2> , ... |(2^n) - 1> ].\n",
    "\n",
    "Individual qubits can be made using the qbit(x = 0 or 1) where x denotes the state of the qubit."
   ]
  },
  {
   "cell_type": "code",
   "execution_count": 4,
   "metadata": {},
   "outputs": [
    {
     "name": "stdout",
     "output_type": "stream",
     "text": [
      "q0: [1, 0]\n",
      "q1: [0, 1]\n"
     ]
    }
   ],
   "source": [
    "q0 = qbit(0)\n",
    "q1 = qbit(1)\n",
    "\n",
    "print(\"q0:\", q0)\n",
    "print(\"q1:\", q1)"
   ]
  },
  {
   "attachments": {},
   "cell_type": "markdown",
   "metadata": {},
   "source": [
    "The MEASURE function simply measures any state, and returns a vector representation of the measurement."
   ]
  },
  {
   "cell_type": "code",
   "execution_count": 6,
   "metadata": {},
   "outputs": [
    {
     "data": {
      "text/plain": [
       "[1, 0]"
      ]
     },
     "execution_count": 6,
     "metadata": {},
     "output_type": "execute_result"
    }
   ],
   "source": [
    "MEASURE(q0)\n",
    "#this simply shows the qubit itself, not a surprise there ofc, as the qubit is in the [1, 0] state."
   ]
  },
  {
   "attachments": {},
   "cell_type": "markdown",
   "metadata": {},
   "source": [
    "The qtensor function returns the tensor product of any two states. This function can basically be thought of as the \"combine into a single system\" function."
   ]
  },
  {
   "cell_type": "code",
   "execution_count": 8,
   "metadata": {},
   "outputs": [
    {
     "name": "stdout",
     "output_type": "stream",
     "text": [
      "[0.00 + i0.00, 1.00 + i0.00, 0.00 + i0.00, 0.00 + i0.00]\n",
      "[0, 1, 0, 0]\n"
     ]
    }
   ],
   "source": [
    "q0andq1state = qtensor(q0, q1)\n",
    "\n",
    "print(q0andq1state)\n",
    "print(MEASURE(q0andq1state)) #again, the state and measurement are the same as they are basically the same thing."
   ]
  },
  {
   "attachments": {},
   "cell_type": "markdown",
   "metadata": {},
   "source": [
    "The extract function extracts the state of a single qubit from the state vector of a system."
   ]
  },
  {
   "cell_type": "code",
   "execution_count": 12,
   "metadata": {},
   "outputs": [
    {
     "name": "stdout",
     "output_type": "stream",
     "text": [
      "q0 measured value: [1, 0]\n",
      "q1 measured value: [0, 1]\n"
     ]
    }
   ],
   "source": [
    "measurement = MEASURE(q0andq1state)\n",
    "print(\"q0 measured value:\", extract(measurement, 0))\n",
    "print(\"q1 measured value:\", extract(measurement, 1))"
   ]
  },
  {
   "attachments": {},
   "cell_type": "markdown",
   "metadata": {},
   "source": [
    "# Gates\n",
    "\n",
    "Gates in this library are 2D matrices of values that are comp or int type. The matrices are of type Matrix.\n",
    "\n",
    "Any unitary Matrix is also a valid quantum gate.\n",
    "\n",
    "Some predefined gates are:\n",
    "- IGATE -> Identity gate\n",
    "- HGATE -> Hadamard gate\n",
    "- CNOT0 -> Controlled not gate (control bit at index 0)\n",
    "- CNOT1 -> Controlled not gate (control bit at index 1)\n",
    "- XGATE -> Pauli X gate\n",
    "- YGATE -> Pauli Y gate\n",
    "- ZGATE -> Pauli Z gate\n",
    "- TGATE -> T gate\n",
    "- SWAPGATE -> Swaps the states of 2 qubits\n",
    "- TOFFOLIGATE -> Toffoli gate\n",
    "\n",
    "Besides these, any List[List[comp || int]] can be converted into a gate by converting it into a Matrix type as shown."
   ]
  },
  {
   "attachments": {},
   "cell_type": "markdown",
   "metadata": {},
   "source": [
    "To apply a gate on a state, simply multiply the gate by the state:\n",
    "\n",
    "(Note that vectors can be represented by both row or column matrices. Both are equivalent.)"
   ]
  },
  {
   "cell_type": "code",
   "execution_count": 48,
   "metadata": {},
   "outputs": [
    {
     "name": "stdout",
     "output_type": "stream",
     "text": [
      "[0.71 + i0.00]\n",
      "[0.71 + i0.00] <class 'quantum.Matrix'>\n",
      "\n",
      "[0.71 + i0.00, 0.71 + i0.00] <class 'list'>\n",
      "\n",
      "[0.00 + i0.00, 0.71 + i0.00, 0.00 + i0.00, 0.71 + i0.00]\n"
     ]
    }
   ],
   "source": [
    "#putting q0 in superposition halfway between |0> and |1>.\n",
    "q0super = (HGATE * q0)\n",
    "\n",
    "print(q0super, type(q0super))\n",
    "\n",
    "#converting to a list, as qtensor can take only lists\n",
    "q0super = q0super.getlist()\n",
    "\n",
    "print()\n",
    "print(q0super, type(q0super))\n",
    "\n",
    "#combining q0 in superposition with q1\n",
    "q0superandq1 = qtensor(q0super, q1)\n",
    "print()\n",
    "print(q0superandq1)"
   ]
  },
  {
   "cell_type": "code",
   "execution_count": 83,
   "metadata": {},
   "outputs": [
    {
     "name": "stdout",
     "output_type": "stream",
     "text": [
      "q0 value: [1, 0] , q1 value: [0, 1]\n"
     ]
    }
   ],
   "source": [
    "m = MEASURE(q0superandq1)\n",
    "print(\"q0 value:\", extract(m, 0), \", q1 value:\", extract(m, 1))\n",
    "\n",
    "#try running this cell a few times to see the different values the system can take"
   ]
  },
  {
   "attachments": {},
   "cell_type": "markdown",
   "metadata": {},
   "source": [
    "The run function can perform a large number of measurements of a givne state to analyse patterns."
   ]
  },
  {
   "cell_type": "code",
   "execution_count": 103,
   "metadata": {},
   "outputs": [
    {
     "name": "stdout",
     "output_type": "stream",
     "text": [
      "|Ψ00> : 25.25%, |Ψ01> : 24.375%, |Ψ10> : 24.6875%, |Ψ11> : 25.687500000000004%\n"
     ]
    },
    {
     "data": {
      "image/png": "[encoded data removed]",
      "text/plain": [
       "<Figure size 576x432 with 1 Axes>"
      ]
     },
     "metadata": {
      "needs_background": "light"
     },
     "output_type": "display_data"
    }
   ],
   "source": [
    "run(\n",
    "    shots = 1600,\n",
    "    state = qtensor( (HGATE * q0).getlist() , (HGATE * q1).getlist() ),\n",
    "    graph = True,\n",
    "    figsize = (8, 6)\n",
    ")"
   ]
  }
 ],
 "metadata": {
  "kernelspec": {
   "display_name": "Python 3",
   "language": "python",
   "name": "python3"
  },
  "language_info": {
   "codemirror_mode": {
    "name": "ipython",
    "version": 3
   },
   "file_extension": ".py",
   "mimetype": "text/x-python",
   "name": "python",
   "nbconvert_exporter": "python",
   "pygments_lexer": "ipython3",
   "version": "3.10.6"
  },
  "orig_nbformat": 4,
  "vscode": {
   "interpreter": {
    "hash": "36e14c9e1cb80b7a58229a4cedc7e1c8b89be16b99cace3d6c4a4df49851e531"
   }
  }
 },
 "nbformat": 4,
 "nbformat_minor": 2
}
