{
 "cells": [
  {
   "cell_type": "code",
   "execution_count": 1,
   "metadata": {},
   "outputs": [],
   "source": [
    "from quantum import *"
   ]
  },
  {
   "cell_type": "code",
   "execution_count": 2,
   "metadata": {},
   "outputs": [
    {
     "name": "stdout",
     "output_type": "stream",
     "text": [
      "\n",
      "q0 (0) ⮕  ---[ H ]---[ H ]---[ 🔃 ]---[ I ]---\n",
      "q1 (0) ⮕  ---[?X]---[ H ]---[ 🔃 ]---\n",
      "q2 (0) ⮕  ---[ H ]---[ ! ]---[ I ]---\n",
      "\n"
     ]
    }
   ],
   "source": [
    "program = qprogram(3)\n",
    "\n",
    "program.addgates(0, [HAD, HAD, FLIP, IDEN])\n",
    "program.addgates(1, [CNOT, HAD, FLIP])\n",
    "program.addgates(2, [HAD, SHIFT, IDEN])\n",
    "\n",
    "print(program)"
   ]
  }
 ],
 "metadata": {
  "interpreter": {
   "hash": "916dbcbb3f70747c44a77c7bcd40155683ae19c65e1c03b4aa3499c5328201f1"
  },
  "kernelspec": {
   "display_name": "Python 3.8.10 64-bit",
   "language": "python",
   "name": "python3"
  },
  "language_info": {
   "codemirror_mode": {
    "name": "ipython",
    "version": 3
   },
   "file_extension": ".py",
   "mimetype": "text/x-python",
   "name": "python",
   "nbconvert_exporter": "python",
   "pygments_lexer": "ipython3",
   "version": "3.8.10"
  },
  "orig_nbformat": 4
 },
 "nbformat": 4,
 "nbformat_minor": 2
}
