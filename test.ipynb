{
 "cells": [
  {
   "cell_type": "code",
   "execution_count": 1,
   "metadata": {},
   "outputs": [],
   "source": [
    "from quantum import *"
   ]
  },
  {
   "cell_type": "code",
   "execution_count": 17,
   "metadata": {},
   "outputs": [
    {
     "name": "stdout",
     "output_type": "stream",
     "text": [
      "\n",
      "Compiling program...\n"
     ]
    },
    {
     "ename": "AssertionError",
     "evalue": "Dimensions of matrices don't match: 16x16 and 8x8",
     "output_type": "error",
     "traceback": [
      "\u001b[1;31m---------------------------------------------------------------------------\u001b[0m",
      "\u001b[1;31mAssertionError\u001b[0m                            Traceback (most recent call last)",
      "\u001b[1;32mc:\\Users\\StealthyPanda\\Desktop\\repos\\quantumcomputingsim\\test.ipynb Cell 2\u001b[0m in \u001b[0;36m<cell line: 8>\u001b[1;34m()\u001b[0m\n\u001b[0;32m      <a href='vscode-notebook-cell:/c%3A/Users/StealthyPanda/Desktop/repos/quantumcomputingsim/test.ipynb#W3sZmlsZQ%3D%3D?line=4'>5</a>\u001b[0m qprog\u001b[39m.\u001b[39maddgates(\u001b[39m2\u001b[39m, [])\n\u001b[0;32m      <a href='vscode-notebook-cell:/c%3A/Users/StealthyPanda/Desktop/repos/quantumcomputingsim/test.ipynb#W3sZmlsZQ%3D%3D?line=5'>6</a>\u001b[0m qprog\u001b[39m.\u001b[39maddgates(\u001b[39m3\u001b[39m, [])\n\u001b[1;32m----> <a href='vscode-notebook-cell:/c%3A/Users/StealthyPanda/Desktop/repos/quantumcomputingsim/test.ipynb#W3sZmlsZQ%3D%3D?line=7'>8</a>\u001b[0m qprog\u001b[39m.\u001b[39;49mcompile()\n\u001b[0;32m      <a href='vscode-notebook-cell:/c%3A/Users/StealthyPanda/Desktop/repos/quantumcomputingsim/test.ipynb#W3sZmlsZQ%3D%3D?line=8'>9</a>\u001b[0m qprog\u001b[39m.\u001b[39mrun(graph \u001b[39m=\u001b[39m \u001b[39mTrue\u001b[39;00m, figsize \u001b[39m=\u001b[39m (\u001b[39m15\u001b[39m, \u001b[39m13\u001b[39m))\n",
      "File \u001b[1;32mc:\\Users\\StealthyPanda\\Desktop\\repos\\quantumcomputingsim\\quantum.py:717\u001b[0m, in \u001b[0;36mqprogram.compile\u001b[1;34m(self, verbose, showcompilationresult)\u001b[0m\n\u001b[0;32m    715\u001b[0m finalmat \u001b[39m=\u001b[39m Matrix(\u001b[39mpow\u001b[39m(\u001b[39m2\u001b[39m, \u001b[39mlen\u001b[39m(\u001b[39mself\u001b[39m\u001b[39m.\u001b[39mgates)), \u001b[39mpow\u001b[39m(\u001b[39m2\u001b[39m, \u001b[39mlen\u001b[39m(\u001b[39mself\u001b[39m\u001b[39m.\u001b[39mgates)))\n\u001b[0;32m    716\u001b[0m \u001b[39mfor\u001b[39;00m each \u001b[39min\u001b[39;00m archways[::\u001b[39m-\u001b[39m\u001b[39m1\u001b[39m]:\n\u001b[1;32m--> 717\u001b[0m     finalmat \u001b[39m=\u001b[39m finalmat \u001b[39m*\u001b[39;49m each\n\u001b[0;32m    719\u001b[0m \u001b[39mif\u001b[39;00m verbose:\n\u001b[0;32m    720\u001b[0m     \u001b[39mprint\u001b[39m(\u001b[39mf\u001b[39m\u001b[39m\"\u001b[39m\u001b[39m\\n\u001b[39;00m\u001b[39mFinal mat shape : \u001b[39m\u001b[39m{\u001b[39;00mfinalmat\u001b[39m.\u001b[39mshape\u001b[39m}\u001b[39;00m\u001b[39m\"\u001b[39m)\n",
      "File \u001b[1;32mc:\\Users\\StealthyPanda\\Desktop\\repos\\quantumcomputingsim\\quantum.py:175\u001b[0m, in \u001b[0;36mMatrix.__mul__\u001b[1;34m(self, other)\u001b[0m\n\u001b[0;32m    171\u001b[0m \u001b[39massert\u001b[39;00m (\n\u001b[0;32m    172\u001b[0m     (\u001b[39mtype\u001b[39m(other) \u001b[39m==\u001b[39m Matrix) \u001b[39mor\u001b[39;00m (\u001b[39mtype\u001b[39m(other) \u001b[39m==\u001b[39m \u001b[39mlist\u001b[39m) \u001b[39mor\u001b[39;00m (\u001b[39mtype\u001b[39m(other) \u001b[39m==\u001b[39m \u001b[39mint\u001b[39m) \u001b[39mor\u001b[39;00m (\u001b[39mtype\u001b[39m(other) \u001b[39m==\u001b[39m comp) \u001b[39mor\u001b[39;00m (\u001b[39mtype\u001b[39m(other) \u001b[39m==\u001b[39m \u001b[39mfloat\u001b[39m)\n\u001b[0;32m    173\u001b[0m ), \u001b[39mf\u001b[39m\u001b[39m\"\u001b[39m\u001b[39mMatrix cannot be multiplied by a \u001b[39m\u001b[39m{\u001b[39;00m\u001b[39mtype\u001b[39m(other)\u001b[39m}\u001b[39;00m\u001b[39m!\u001b[39m\u001b[39m\"\u001b[39m\n\u001b[0;32m    174\u001b[0m \u001b[39mif\u001b[39;00m \u001b[39mtype\u001b[39m(other) \u001b[39m==\u001b[39m Matrix:\n\u001b[1;32m--> 175\u001b[0m     \u001b[39massert\u001b[39;00m \u001b[39mself\u001b[39m\u001b[39m.\u001b[39mncols \u001b[39m==\u001b[39m other\u001b[39m.\u001b[39mnrows, \u001b[39mf\u001b[39m\u001b[39m\"\u001b[39m\u001b[39mDimensions of matrices don\u001b[39m\u001b[39m'\u001b[39m\u001b[39mt match: \u001b[39m\u001b[39m{\u001b[39;00m\u001b[39mself\u001b[39m\u001b[39m.\u001b[39mnrows\u001b[39m}\u001b[39;00m\u001b[39mx\u001b[39m\u001b[39m{\u001b[39;00m\u001b[39mself\u001b[39m\u001b[39m.\u001b[39mncols\u001b[39m}\u001b[39;00m\u001b[39m and \u001b[39m\u001b[39m{\u001b[39;00mother\u001b[39m.\u001b[39mnrows\u001b[39m}\u001b[39;00m\u001b[39mx\u001b[39m\u001b[39m{\u001b[39;00mother\u001b[39m.\u001b[39mncols\u001b[39m}\u001b[39;00m\u001b[39m\"\u001b[39m\n\u001b[0;32m    176\u001b[0m     product \u001b[39m=\u001b[39m Matrix(\u001b[39mself\u001b[39m\u001b[39m.\u001b[39mnrows, other\u001b[39m.\u001b[39mncols)\n\u001b[0;32m    177\u001b[0m     ot \u001b[39m=\u001b[39m other\u001b[39m.\u001b[39mtranspose()\n",
      "\u001b[1;31mAssertionError\u001b[0m: Dimensions of matrices don't match: 16x16 and 8x8"
     ]
    }
   ],
   "source": [
    "qprog = qprogram(4)\n",
    "\n",
    "qprog.addgates(0, [HGATE, IGATE, IGATE, TOFFOLIGATE])\n",
    "qprog.addgates(1, [IGATE, CNOT0])\n",
    "qprog.addgates(2, [])\n",
    "qprog.addgates(3, [])\n",
    "\n",
    "qprog.compile()\n",
    "qprog.run(graph = True, figsize = (15, 13))"
   ]
  }
 ],
 "metadata": {
  "kernelspec": {
   "display_name": "Python 3",
   "language": "python",
   "name": "python3"
  },
  "language_info": {
   "codemirror_mode": {
    "name": "ipython",
    "version": 3
   },
   "file_extension": ".py",
   "mimetype": "text/x-python",
   "name": "python",
   "nbconvert_exporter": "python",
   "pygments_lexer": "ipython3",
   "version": "3.10.6"
  },
  "orig_nbformat": 4,
  "vscode": {
   "interpreter": {
    "hash": "36e14c9e1cb80b7a58229a4cedc7e1c8b89be16b99cace3d6c4a4df49851e531"
   }
  }
 },
 "nbformat": 4,
 "nbformat_minor": 2
}
